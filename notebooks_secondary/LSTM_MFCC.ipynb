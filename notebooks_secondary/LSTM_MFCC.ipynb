{
 "cells": [
  {
   "cell_type": "markdown",
   "id": "4d37e76e-4af5-4432-9860-c4a2afa520cf",
   "metadata": {},
   "source": [
    "## EXPLORING mfcc_features"
   ]
  },
  {
   "cell_type": "code",
   "execution_count": 10,
   "id": "ab13440b-8ab3-4d05-a7b9-7b6320bcc7f1",
   "metadata": {
    "scrolled": true
   },
   "outputs": [
    {
     "name": "stdout",
     "output_type": "stream",
     "text": [
      "Requirement already satisfied: librosa in c:\\users\\ranul\\documents\\github\\genrewave\\venv\\lib\\site-packages (0.11.0)\n",
      "Requirement already satisfied: audioread>=2.1.9 in c:\\users\\ranul\\documents\\github\\genrewave\\venv\\lib\\site-packages (from librosa) (3.0.1)\n",
      "Requirement already satisfied: numba>=0.51.0 in c:\\users\\ranul\\documents\\github\\genrewave\\venv\\lib\\site-packages (from librosa) (0.61.2)\n",
      "Requirement already satisfied: numpy>=1.22.3 in c:\\users\\ranul\\documents\\github\\genrewave\\venv\\lib\\site-packages (from librosa) (2.2.4)\n",
      "Requirement already satisfied: scipy>=1.6.0 in c:\\users\\ranul\\documents\\github\\genrewave\\venv\\lib\\site-packages (from librosa) (1.15.2)\n",
      "Requirement already satisfied: scikit-learn>=1.1.0 in c:\\users\\ranul\\documents\\github\\genrewave\\venv\\lib\\site-packages (from librosa) (1.6.1)\n",
      "Requirement already satisfied: joblib>=1.0 in c:\\users\\ranul\\documents\\github\\genrewave\\venv\\lib\\site-packages (from librosa) (1.4.2)\n",
      "Requirement already satisfied: decorator>=4.3.0 in c:\\users\\ranul\\documents\\github\\genrewave\\venv\\lib\\site-packages (from librosa) (5.2.1)\n",
      "Requirement already satisfied: soundfile>=0.12.1 in c:\\users\\ranul\\documents\\github\\genrewave\\venv\\lib\\site-packages (from librosa) (0.13.1)\n",
      "Requirement already satisfied: pooch>=1.1 in c:\\users\\ranul\\documents\\github\\genrewave\\venv\\lib\\site-packages (from librosa) (1.8.2)\n",
      "Requirement already satisfied: soxr>=0.3.2 in c:\\users\\ranul\\documents\\github\\genrewave\\venv\\lib\\site-packages (from librosa) (0.5.0.post1)\n",
      "Requirement already satisfied: typing_extensions>=4.1.1 in c:\\users\\ranul\\documents\\github\\genrewave\\venv\\lib\\site-packages (from librosa) (4.13.2)\n",
      "Requirement already satisfied: lazy_loader>=0.1 in c:\\users\\ranul\\documents\\github\\genrewave\\venv\\lib\\site-packages (from librosa) (0.4)\n",
      "Requirement already satisfied: msgpack>=1.0 in c:\\users\\ranul\\documents\\github\\genrewave\\venv\\lib\\site-packages (from librosa) (1.1.0)\n",
      "Requirement already satisfied: packaging in c:\\users\\ranul\\documents\\github\\genrewave\\venv\\lib\\site-packages (from lazy_loader>=0.1->librosa) (24.2)\n",
      "Requirement already satisfied: llvmlite<0.45,>=0.44.0dev0 in c:\\users\\ranul\\documents\\github\\genrewave\\venv\\lib\\site-packages (from numba>=0.51.0->librosa) (0.44.0)\n",
      "Requirement already satisfied: platformdirs>=2.5.0 in c:\\users\\ranul\\documents\\github\\genrewave\\venv\\lib\\site-packages (from pooch>=1.1->librosa) (4.3.7)\n",
      "Requirement already satisfied: requests>=2.19.0 in c:\\users\\ranul\\documents\\github\\genrewave\\venv\\lib\\site-packages (from pooch>=1.1->librosa) (2.32.3)\n",
      "Requirement already satisfied: threadpoolctl>=3.1.0 in c:\\users\\ranul\\documents\\github\\genrewave\\venv\\lib\\site-packages (from scikit-learn>=1.1.0->librosa) (3.6.0)\n",
      "Requirement already satisfied: cffi>=1.0 in c:\\users\\ranul\\documents\\github\\genrewave\\venv\\lib\\site-packages (from soundfile>=0.12.1->librosa) (1.17.1)\n",
      "Requirement already satisfied: pycparser in c:\\users\\ranul\\documents\\github\\genrewave\\venv\\lib\\site-packages (from cffi>=1.0->soundfile>=0.12.1->librosa) (2.22)\n",
      "Requirement already satisfied: charset-normalizer<4,>=2 in c:\\users\\ranul\\documents\\github\\genrewave\\venv\\lib\\site-packages (from requests>=2.19.0->pooch>=1.1->librosa) (3.4.1)\n",
      "Requirement already satisfied: idna<4,>=2.5 in c:\\users\\ranul\\documents\\github\\genrewave\\venv\\lib\\site-packages (from requests>=2.19.0->pooch>=1.1->librosa) (3.10)\n",
      "Requirement already satisfied: urllib3<3,>=1.21.1 in c:\\users\\ranul\\documents\\github\\genrewave\\venv\\lib\\site-packages (from requests>=2.19.0->pooch>=1.1->librosa) (2.4.0)\n",
      "Requirement already satisfied: certifi>=2017.4.17 in c:\\users\\ranul\\documents\\github\\genrewave\\venv\\lib\\site-packages (from requests>=2.19.0->pooch>=1.1->librosa) (2025.1.31)\n"
     ]
    },
    {
     "name": "stderr",
     "output_type": "stream",
     "text": [
      "\n",
      "[notice] A new release of pip is available: 25.0.1 -> 25.1.1\n",
      "[notice] To update, run: python.exe -m pip install --upgrade pip\n"
     ]
    }
   ],
   "source": [
    "import sys\n",
    "!{sys.executable} -m pip install librosa"
   ]
  },
  {
   "cell_type": "code",
   "execution_count": 11,
   "id": "2dd2dc77-e16b-4880-bb71-f5fbe633eafd",
   "metadata": {
    "scrolled": true
   },
   "outputs": [
    {
     "name": "stdout",
     "output_type": "stream",
     "text": [
      "Requirement already satisfied: torch in c:\\users\\ranul\\documents\\github\\genrewave\\venv\\lib\\site-packages (2.7.0)\n",
      "Requirement already satisfied: torchvision in c:\\users\\ranul\\documents\\github\\genrewave\\venv\\lib\\site-packages (0.22.0)\n",
      "Requirement already satisfied: torchaudio in c:\\users\\ranul\\documents\\github\\genrewave\\venv\\lib\\site-packages (2.7.0)\n",
      "Requirement already satisfied: filelock in c:\\users\\ranul\\documents\\github\\genrewave\\venv\\lib\\site-packages (from torch) (3.18.0)\n",
      "Requirement already satisfied: typing-extensions>=4.10.0 in c:\\users\\ranul\\documents\\github\\genrewave\\venv\\lib\\site-packages (from torch) (4.13.2)\n",
      "Requirement already satisfied: sympy>=1.13.3 in c:\\users\\ranul\\documents\\github\\genrewave\\venv\\lib\\site-packages (from torch) (1.13.3)\n",
      "Requirement already satisfied: networkx in c:\\users\\ranul\\documents\\github\\genrewave\\venv\\lib\\site-packages (from torch) (3.4.2)\n",
      "Requirement already satisfied: jinja2 in c:\\users\\ranul\\documents\\github\\genrewave\\venv\\lib\\site-packages (from torch) (3.1.6)\n",
      "Requirement already satisfied: fsspec in c:\\users\\ranul\\documents\\github\\genrewave\\venv\\lib\\site-packages (from torch) (2025.3.2)\n",
      "Requirement already satisfied: setuptools in c:\\users\\ranul\\documents\\github\\genrewave\\venv\\lib\\site-packages (from torch) (79.0.0)\n",
      "Requirement already satisfied: numpy in c:\\users\\ranul\\documents\\github\\genrewave\\venv\\lib\\site-packages (from torchvision) (2.2.4)\n",
      "Requirement already satisfied: pillow!=8.3.*,>=5.3.0 in c:\\users\\ranul\\documents\\github\\genrewave\\venv\\lib\\site-packages (from torchvision) (11.2.1)\n",
      "Requirement already satisfied: mpmath<1.4,>=1.1.0 in c:\\users\\ranul\\documents\\github\\genrewave\\venv\\lib\\site-packages (from sympy>=1.13.3->torch) (1.3.0)\n",
      "Requirement already satisfied: MarkupSafe>=2.0 in c:\\users\\ranul\\documents\\github\\genrewave\\venv\\lib\\site-packages (from jinja2->torch) (3.0.2)\n"
     ]
    },
    {
     "name": "stderr",
     "output_type": "stream",
     "text": [
      "\n",
      "[notice] A new release of pip is available: 25.0.1 -> 25.1.1\n",
      "[notice] To update, run: python.exe -m pip install --upgrade pip\n"
     ]
    }
   ],
   "source": [
    "!pip install torch torchvision torchaudio"
   ]
  },
  {
   "cell_type": "code",
   "execution_count": 12,
   "id": "b7f4f261-9a95-4aa9-a88f-f902f34a5161",
   "metadata": {
    "scrolled": true
   },
   "outputs": [
    {
     "name": "stdout",
     "output_type": "stream",
     "text": [
      "Requirement already satisfied: matplotlib in c:\\users\\ranul\\documents\\github\\genrewave\\venv\\lib\\site-packages (3.10.1)\n",
      "Requirement already satisfied: seaborn in c:\\users\\ranul\\documents\\github\\genrewave\\venv\\lib\\site-packages (0.13.2)\n",
      "Requirement already satisfied: contourpy>=1.0.1 in c:\\users\\ranul\\documents\\github\\genrewave\\venv\\lib\\site-packages (from matplotlib) (1.3.2)\n",
      "Requirement already satisfied: cycler>=0.10 in c:\\users\\ranul\\documents\\github\\genrewave\\venv\\lib\\site-packages (from matplotlib) (0.12.1)\n",
      "Requirement already satisfied: fonttools>=4.22.0 in c:\\users\\ranul\\documents\\github\\genrewave\\venv\\lib\\site-packages (from matplotlib) (4.57.0)\n",
      "Requirement already satisfied: kiwisolver>=1.3.1 in c:\\users\\ranul\\documents\\github\\genrewave\\venv\\lib\\site-packages (from matplotlib) (1.4.8)\n",
      "Requirement already satisfied: numpy>=1.23 in c:\\users\\ranul\\documents\\github\\genrewave\\venv\\lib\\site-packages (from matplotlib) (2.2.4)\n",
      "Requirement already satisfied: packaging>=20.0 in c:\\users\\ranul\\documents\\github\\genrewave\\venv\\lib\\site-packages (from matplotlib) (24.2)\n",
      "Requirement already satisfied: pillow>=8 in c:\\users\\ranul\\documents\\github\\genrewave\\venv\\lib\\site-packages (from matplotlib) (11.2.1)\n",
      "Requirement already satisfied: pyparsing>=2.3.1 in c:\\users\\ranul\\documents\\github\\genrewave\\venv\\lib\\site-packages (from matplotlib) (3.2.3)\n",
      "Requirement already satisfied: python-dateutil>=2.7 in c:\\users\\ranul\\documents\\github\\genrewave\\venv\\lib\\site-packages (from matplotlib) (2.9.0.post0)\n",
      "Requirement already satisfied: pandas>=1.2 in c:\\users\\ranul\\documents\\github\\genrewave\\venv\\lib\\site-packages (from seaborn) (2.2.3)\n",
      "Requirement already satisfied: pytz>=2020.1 in c:\\users\\ranul\\documents\\github\\genrewave\\venv\\lib\\site-packages (from pandas>=1.2->seaborn) (2025.2)\n",
      "Requirement already satisfied: tzdata>=2022.7 in c:\\users\\ranul\\documents\\github\\genrewave\\venv\\lib\\site-packages (from pandas>=1.2->seaborn) (2025.2)\n",
      "Requirement already satisfied: six>=1.5 in c:\\users\\ranul\\documents\\github\\genrewave\\venv\\lib\\site-packages (from python-dateutil>=2.7->matplotlib) (1.17.0)\n"
     ]
    },
    {
     "name": "stderr",
     "output_type": "stream",
     "text": [
      "\n",
      "[notice] A new release of pip is available: 25.0.1 -> 25.1.1\n",
      "[notice] To update, run: python.exe -m pip install --upgrade pip\n"
     ]
    }
   ],
   "source": [
    "!pip install matplotlib seaborn"
   ]
  },
  {
   "cell_type": "code",
   "execution_count": 13,
   "id": "93ae6f01-ccb6-4a95-87b6-974cc4e72df8",
   "metadata": {},
   "outputs": [],
   "source": [
    "import numpy as np\n",
    "import torch.nn as nn\n",
    "import torch.optim as optim\n",
    "import torch\n",
    "from torch.utils.data import Dataset\n",
    "from torch.utils.data import random_split, DataLoader\n",
    "import torchvision\n",
    "from sklearn.model_selection import train_test_split\n",
    "from sklearn.metrics import classification_report\n",
    "from sklearn.utils.class_weight import compute_class_weight\n",
    "from sklearn.metrics import confusion_matrix, ConfusionMatrixDisplay\n",
    "import matplotlib.pyplot as plt\n",
    "import seaborn as sns\n",
    "import os\n",
    "import librosa\n",
    "import numpy as np\n",
    "import pandas as pd"
   ]
  },
  {
   "cell_type": "code",
   "execution_count": 14,
   "id": "5f43dde1-21f0-4647-9dd1-0fb02300caa8",
   "metadata": {},
   "outputs": [
    {
     "name": "stdout",
     "output_type": "stream",
     "text": [
      "['X', 'y']\n"
     ]
    }
   ],
   "source": [
    "data = np.load(\"../features/mfcc_features.npz\")\n",
    "print(data.files) "
   ]
  },
  {
   "cell_type": "code",
   "execution_count": 15,
   "id": "8873a3af-22e0-4710-b03d-7c00fe6cd0c6",
   "metadata": {},
   "outputs": [
    {
     "name": "stdout",
     "output_type": "stream",
     "text": [
      "Original shape: (7994, 40)\n"
     ]
    }
   ],
   "source": [
    "X = data['X']  \n",
    "y = data['y']  \n",
    "print(\"Original shape:\", X.shape)\n",
    "# print(\"Original shape:\", y.shape)"
   ]
  },
  {
   "cell_type": "markdown",
   "id": "0a236f0c-09f7-44b4-846b-4df5ba56a5f6",
   "metadata": {},
   "source": [
    "### have total of 7994 samples and 40 features \n",
    "### Next extracting MFCC features (from .mp3 to .npy file)"
   ]
  },
  {
   "cell_type": "code",
   "execution_count": 16,
   "id": "63c8669c-1787-4861-b24a-6d48b5fcc0cd",
   "metadata": {
    "scrolled": true
   },
   "outputs": [
    {
     "name": "stdout",
     "output_type": "stream",
     "text": [
      "Walking through: ../musicData/fma_small/\n",
      "\n",
      " Done. Total processed: 0\n"
     ]
    }
   ],
   "source": [
    "SOURCE_DIR = '../musicData/fma_small/'\n",
    "DEST_DIR = '../features/lstm_mfcc'\n",
    "\n",
    "# number of audio samples per second, to resample file to a smaller size and processing time while retaining enough frequency\n",
    "SAMPLE_RATE = 22050\n",
    "\n",
    "# MFCC Coefficients(Mel-Frequency Cepstral Coefficients) to extract per time frame\n",
    "N_MFCC = 20\n",
    "# The number of time frames per audio clip you want.\n",
    "MAX_LEN = 130\n",
    "\n",
    "os.makedirs(DEST_DIR, exist_ok=True)\n",
    "\n",
    "def extract_mfcc(file_path):\n",
    "    try:\n",
    "        signal, sr = librosa.load(file_path, sr=SAMPLE_RATE)\n",
    "        mfcc = librosa.feature.mfcc(y=signal, sr=sr, n_mfcc=N_MFCC)\n",
    "\n",
    "        if mfcc.shape[1] < MAX_LEN:\n",
    "            mfcc = np.pad(mfcc, ((0, 0), (0, MAX_LEN - mfcc.shape[1])), mode='constant')\n",
    "        else:\n",
    "            mfcc = mfcc[:, :MAX_LEN]\n",
    "\n",
    "        return mfcc.T  \n",
    "\n",
    "    except Exception as e:\n",
    "        print(f\"Failed: {file_path} → {e}\")\n",
    "        return None\n",
    "\n",
    "def process_all_files():\n",
    "    count = 0\n",
    "    print(f\"Walking through: {SOURCE_DIR}\")\n",
    "    for root, _, files in os.walk(SOURCE_DIR):\n",
    "        for fname in files:\n",
    "            if fname.lower().endswith(\".mp3\"):  # case-insensitive\n",
    "                full_path = os.path.join(root, fname)\n",
    "                mfcc = extract_mfcc(full_path)\n",
    "                if mfcc is not None:\n",
    "                    out_name = os.path.splitext(fname)[0] + \".npy\"\n",
    "                    save_path = os.path.join(DEST_DIR, out_name)\n",
    "                    np.save(save_path, mfcc)\n",
    "                    print(f\" Saved: {save_path}\")\n",
    "                    count += 1\n",
    "    print(f\"\\n Done. Total processed: {count}\")\n",
    "\n",
    "\n",
    "process_all_files()"
   ]
  },
  {
   "cell_type": "code",
   "execution_count": 17,
   "id": "182e7ea7-40ee-49fd-a58a-0ff50947662f",
   "metadata": {},
   "outputs": [
    {
     "name": "stdout",
     "output_type": "stream",
     "text": [
      "Genre → ID mapping:\n",
      "{'Electronic': 0, 'Experimental': 1, 'Folk': 2, 'Hip-Hop': 3, 'Instrumental': 4, 'International': 5, 'Pop': 6, 'Rock': 7}\n",
      "Total labeled tracks: 8000\n"
     ]
    }
   ],
   "source": [
    "genre_df = pd.read_csv(\"../reports/step_1_Explore_Metadata/valid_track_genres.csv\")\n",
    "\n",
    "# Get unique genres and assign integer labels\n",
    "unique_genres = sorted(genre_df['genre_top'].dropna().unique())\n",
    "genre_to_id = {genre: idx for idx, genre in enumerate(unique_genres)}\n",
    "\n",
    "# Map each track_id to a label\n",
    "label_map = {\n",
    "    row['track_id']: genre_to_id[row['genre_top']]\n",
    "    for _, row in genre_df.iterrows()\n",
    "}\n",
    "\n",
    "print(\"Genre → ID mapping:\")\n",
    "print(genre_to_id)\n",
    "print(f\"Total labeled tracks: {len(label_map)}\")\n"
   ]
  },
  {
   "cell_type": "code",
   "execution_count": 18,
   "id": "95c6d4e9-24e6-4bc2-b9c8-c2dc161e6016",
   "metadata": {},
   "outputs": [
    {
     "name": "stdout",
     "output_type": "stream",
     "text": [
      "Sample .npy files: ['000002.npy', '000005.npy', '000010.npy', '000140.npy', '000141.npy']\n"
     ]
    }
   ],
   "source": [
    "import os\n",
    "\n",
    "npy_files = os.listdir('../features/lstm_mfcc')\n",
    "print(\"Sample .npy files:\", npy_files[:5])\n"
   ]
  },
  {
   "cell_type": "code",
   "execution_count": 19,
   "id": "d6a9d9a5-0ad4-4218-af24-98aa954bcb22",
   "metadata": {},
   "outputs": [],
   "source": [
    "class FMA_LSTM_Dataset(Dataset):\n",
    "    def __init__(self, feature_dir, label_map):\n",
    "        self.feature_dir = feature_dir\n",
    "        self.label_map = label_map\n",
    "        self.file_list = [\n",
    "            f for f in os.listdir(feature_dir)\n",
    "            if f.endswith(\".npy\") and int(os.path.splitext(f)[0]) in label_map\n",
    "        ]\n",
    "        print(f\"Total .npy files with labels found: {len(self.file_list)}\")\n",
    "        print(\"Example file_list content:\", self.file_list[:5])\n",
    "\n",
    "    def __len__(self):\n",
    "        return len(self.file_list)\n",
    "\n",
    "    def __getitem__(self, idx):\n",
    "        filename = self.file_list[idx]\n",
    "        track_id = int(os.path.splitext(filename)[0])\n",
    "        label = self.label_map[track_id]\n",
    "\n",
    "        mfcc_path = os.path.join(self.feature_dir, filename)\n",
    "        x = np.load(mfcc_path)  # shape: (130, 20)\n",
    "        # normalizing to avoid divide by 0\n",
    "        x = (x - np.mean(x)) / (np.std(x) + 1e-8) \n",
    "        \n",
    "        x_tensor = torch.tensor(x, dtype=torch.float32)\n",
    "        y_tensor = torch.tensor(label, dtype=torch.long)\n",
    "        return x_tensor, y_tensor"
   ]
  },
  {
   "cell_type": "code",
   "execution_count": 20,
   "id": "336ee844-823a-4d39-b7f2-94e58d405f0b",
   "metadata": {},
   "outputs": [
    {
     "name": "stdout",
     "output_type": "stream",
     "text": [
      "Total .npy files with labels found: 7997\n",
      "Example file_list content: ['000002.npy', '000005.npy', '000010.npy', '000140.npy', '000141.npy']\n",
      "7997\n",
      "MFCC shape: torch.Size([130, 20])\n",
      "Genre class: tensor(3)\n"
     ]
    }
   ],
   "source": [
    "dataset = FMA_LSTM_Dataset(\n",
    "    feature_dir='../features/lstm_mfcc',\n",
    "    label_map=label_map\n",
    ")\n",
    "\n",
    "# Sanity check\n",
    "print(len(dataset))\n",
    "x, y = dataset[0]\n",
    "print(\"MFCC shape:\", x.shape)   # (130, 20)\n",
    "print(\"Genre class:\", y)"
   ]
  },
  {
   "cell_type": "code",
   "execution_count": 21,
   "id": "c4510574-7195-499b-a5ce-9374da21f01a",
   "metadata": {},
   "outputs": [],
   "source": [
    "## test train split"
   ]
  },
  {
   "cell_type": "code",
   "execution_count": 22,
   "id": "76864fb6-a043-4e18-9307-bdd856028a9b",
   "metadata": {},
   "outputs": [],
   "source": [
    "train_size = int(0.8 * len(dataset))\n",
    "test_size = len(dataset) - train_size\n",
    "\n",
    "train_set, test_set = random_split(dataset, [train_size, test_size])\n",
    "train_loader = DataLoader(train_set, batch_size=32, shuffle=True)\n",
    "test_loader = DataLoader(test_set, batch_size=32)\n",
    "x_batch, y_batch = next(iter(train_loader))\n",
    "# print(\"Batch shape:\", x_batch.shape)  \n",
    "# print(\"Genre class labels:\", y_batch[:5])"
   ]
  },
  {
   "cell_type": "code",
   "execution_count": 23,
   "id": "042b1a4c-aba7-4e2f-9133-865605ef1570",
   "metadata": {},
   "outputs": [],
   "source": [
    "# creating custom NN which will be used\n",
    "class LSTMClassifier(nn.Module):\n",
    "    def __init__(self, input_size=20, hidden_size=128, num_layers=3, num_classes=8, dropout=0.3):\n",
    "        super(LSTMClassifier, self).__init__()\n",
    "        self.lstm = nn.LSTM(input_size=input_size,\n",
    "                            hidden_size=hidden_size,\n",
    "                            num_layers=num_layers,\n",
    "                            batch_first=True,\n",
    "                            dropout=dropout,\n",
    "                           bidirectional=True)\n",
    "        self.fc = nn.Linear(hidden_size, num_classes)\n",
    "\n",
    "    def forward(self, x):\n",
    "        out, (hn, _) = self.lstm(x)       \n",
    "        logits = self.fc(hn[-1])          \n",
    "        return logits\n"
   ]
  },
  {
   "cell_type": "code",
   "execution_count": 24,
   "id": "6ba19829-5802-4195-8dae-0a5cf6186997",
   "metadata": {},
   "outputs": [],
   "source": [
    "device = torch.device('cuda' if torch.cuda.is_available() else 'cpu')\n",
    "\n",
    "model = LSTMClassifier(num_classes=len(set(label_map.values())))\n",
    "model.to(device)\n",
    "\n",
    "criterion = nn.CrossEntropyLoss()\n",
    "optimizer = optim.Adam(model.parameters(), lr=0.001)"
   ]
  },
  {
   "cell_type": "code",
   "execution_count": 25,
   "id": "c33c3d9d-ad21-4115-b81d-ac2169a09d4b",
   "metadata": {},
   "outputs": [],
   "source": [
    "def train(model, loader, criterion, optimizer):\n",
    "    model.train()\n",
    "    total_loss, correct = 0, 0\n",
    "    for x_batch, y_batch in loader:\n",
    "        x_batch, y_batch = x_batch.to(device), y_batch.to(device)\n",
    "\n",
    "        optimizer.zero_grad()\n",
    "        outputs = model(x_batch)\n",
    "        loss = criterion(outputs, y_batch)\n",
    "        loss.backward()\n",
    "        optimizer.step()\n",
    "\n",
    "        total_loss += loss.item()\n",
    "        correct += (outputs.argmax(1) == y_batch).sum().item()\n",
    "\n",
    "    avg_loss = total_loss / len(loader)\n",
    "    accuracy = correct / len(loader.dataset)\n",
    "    return avg_loss, accuracy\n",
    "\n",
    "def evaluate(model, loader, criterion):\n",
    "    model.eval()\n",
    "    total_loss, correct = 0, 0\n",
    "    with torch.no_grad():\n",
    "        for x_batch, y_batch in loader:\n",
    "            x_batch, y_batch = x_batch.to(device), y_batch.to(device)\n",
    "            outputs = model(x_batch)\n",
    "            loss = criterion(outputs, y_batch)\n",
    "            total_loss += loss.item()\n",
    "            correct += (outputs.argmax(1) == y_batch).sum().item()\n",
    "\n",
    "    avg_loss = total_loss / len(loader)\n",
    "    accuracy = correct / len(loader.dataset)\n",
    "    return avg_loss, accuracy"
   ]
  },
  {
   "cell_type": "code",
   "execution_count": 26,
   "id": "9517fbce-4fb5-483e-86b6-520c0cb726fd",
   "metadata": {
    "scrolled": true
   },
   "outputs": [
    {
     "name": "stdout",
     "output_type": "stream",
     "text": [
      "Epoch 1/20\n",
      "  Train Loss: 1.9657, Accuracy: 0.2306\n",
      "  Val   Loss: 1.9078, Accuracy: 0.2544\n",
      "Epoch 2/20\n",
      "  Train Loss: 1.8809, Accuracy: 0.2900\n",
      "  Val   Loss: 1.8628, Accuracy: 0.2869\n",
      "Epoch 3/20\n",
      "  Train Loss: 1.8401, Accuracy: 0.3055\n",
      "  Val   Loss: 1.8165, Accuracy: 0.3125\n",
      "Epoch 4/20\n",
      "  Train Loss: 1.8145, Accuracy: 0.3111\n",
      "  Val   Loss: 1.8166, Accuracy: 0.3144\n",
      "Epoch 5/20\n",
      "  Train Loss: 1.7799, Accuracy: 0.3259\n",
      "  Val   Loss: 1.8087, Accuracy: 0.3194\n",
      "Epoch 6/20\n",
      "  Train Loss: 1.7693, Accuracy: 0.3314\n",
      "  Val   Loss: 1.7654, Accuracy: 0.3412\n",
      "Epoch 7/20\n",
      "  Train Loss: 1.7347, Accuracy: 0.3470\n",
      "  Val   Loss: 1.7461, Accuracy: 0.3463\n",
      "Epoch 8/20\n",
      "  Train Loss: 1.7081, Accuracy: 0.3570\n",
      "  Val   Loss: 1.7310, Accuracy: 0.3606\n",
      "Epoch 9/20\n",
      "  Train Loss: 1.6965, Accuracy: 0.3633\n",
      "  Val   Loss: 1.7379, Accuracy: 0.3800\n",
      "Epoch 10/20\n",
      "  Train Loss: 1.6551, Accuracy: 0.3808\n",
      "  Val   Loss: 1.7335, Accuracy: 0.3375\n",
      "Epoch 11/20\n",
      "  Train Loss: 1.6505, Accuracy: 0.3808\n",
      "  Val   Loss: 1.7150, Accuracy: 0.3631\n",
      "Epoch 12/20\n",
      "  Train Loss: 1.5984, Accuracy: 0.4010\n",
      "  Val   Loss: 1.7168, Accuracy: 0.3600\n",
      "Epoch 13/20\n",
      "  Train Loss: 1.5756, Accuracy: 0.4141\n",
      "  Val   Loss: 1.7065, Accuracy: 0.3794\n",
      "Epoch 14/20\n",
      "  Train Loss: 1.5705, Accuracy: 0.4183\n",
      "  Val   Loss: 1.7224, Accuracy: 0.3606\n",
      "Epoch 15/20\n",
      "  Train Loss: 1.5538, Accuracy: 0.4243\n",
      "  Val   Loss: 1.7072, Accuracy: 0.3738\n",
      "Epoch 16/20\n",
      "  Train Loss: 1.4970, Accuracy: 0.4532\n",
      "  Val   Loss: 1.7037, Accuracy: 0.3806\n",
      "Epoch 17/20\n",
      "  Train Loss: 1.4839, Accuracy: 0.4571\n",
      "  Val   Loss: 1.7440, Accuracy: 0.3706\n",
      "Epoch 18/20\n",
      "  Train Loss: 1.5117, Accuracy: 0.4449\n",
      "  Val   Loss: 1.6798, Accuracy: 0.3937\n",
      "Epoch 19/20\n",
      "  Train Loss: 1.4464, Accuracy: 0.4674\n",
      "  Val   Loss: 1.6855, Accuracy: 0.3894\n",
      "Epoch 20/20\n",
      "  Train Loss: 1.3940, Accuracy: 0.4901\n",
      "  Val   Loss: 1.6870, Accuracy: 0.4062\n"
     ]
    }
   ],
   "source": [
    "train_losses, val_losses = [], []\n",
    "train_accuracies, val_accuracies = [], []\n",
    "\n",
    "epochs = 20\n",
    "for epoch in range(epochs):\n",
    "    train_loss, train_acc = train(model, train_loader, criterion, optimizer)\n",
    "    val_loss, val_acc = evaluate(model, test_loader, criterion)\n",
    "\n",
    "    train_losses.append(train_loss)\n",
    "    val_losses.append(val_loss)\n",
    "    train_accuracies.append(train_acc)\n",
    "    val_accuracies.append(val_acc)\n",
    "\n",
    "    print(f\"Epoch {epoch+1}/{epochs}\")\n",
    "    print(f\"  Train Loss: {train_loss:.4f}, Accuracy: {train_acc:.4f}\")\n",
    "    print(f\"  Val   Loss: {val_loss:.4f}, Accuracy: {val_acc:.4f}\")\n"
   ]
  },
  {
   "cell_type": "code",
   "execution_count": 27,
   "id": "d9820216-f2c9-470e-9186-46b3a367955e",
   "metadata": {},
   "outputs": [],
   "source": [
    "torch.save(model.state_dict(), '../models/lstm_genre_classifier_without_class_weights.pth') "
   ]
  },
  {
   "cell_type": "code",
   "execution_count": 29,
   "id": "fa45e586-6e7a-4f3d-ba16-74ebe12dbc26",
   "metadata": {},
   "outputs": [
    {
     "data": {
      "text/plain": [
       "LSTMClassifier(\n",
       "  (lstm): LSTM(20, 128, num_layers=3, batch_first=True, dropout=0.3, bidirectional=True)\n",
       "  (fc): Linear(in_features=128, out_features=8, bias=True)\n",
       ")"
      ]
     },
     "execution_count": 29,
     "metadata": {},
     "output_type": "execute_result"
    }
   ],
   "source": [
    "map_loc = torch.device('cuda' if torch.cuda.is_available() else 'cpu')\n",
    "model.load_state_dict(torch.load(\n",
    "    '../models/lstm_genre_classifier.pth', map_location=map_loc))\n",
    "model.to(device)\n",
    "model.eval()"
   ]
  },
  {
   "cell_type": "code",
   "execution_count": 30,
   "id": "464c0f42-e907-4e44-80cf-268cc570b576",
   "metadata": {},
   "outputs": [
    {
     "name": "stdout",
     "output_type": "stream",
     "text": [
      "               precision    recall  f1-score   support\n",
      "\n",
      "   Electronic       0.00      0.00      0.00       199\n",
      " Experimental       0.00      0.00      0.00       205\n",
      "         Folk       0.13      1.00      0.23       203\n",
      "      Hip-Hop       0.00      0.00      0.00       206\n",
      " Instrumental       0.00      0.00      0.00       194\n",
      "International       0.00      0.00      0.00       189\n",
      "          Pop       0.00      0.00      0.00       208\n",
      "         Rock       0.00      0.00      0.00       196\n",
      "\n",
      "     accuracy                           0.13      1600\n",
      "    macro avg       0.02      0.12      0.03      1600\n",
      " weighted avg       0.02      0.13      0.03      1600\n",
      "\n"
     ]
    },
    {
     "name": "stderr",
     "output_type": "stream",
     "text": [
      "c:\\Users\\ranuL\\Documents\\GitHub\\GenreWave\\venv\\Lib\\site-packages\\sklearn\\metrics\\_classification.py:1565: UndefinedMetricWarning: Precision is ill-defined and being set to 0.0 in labels with no predicted samples. Use `zero_division` parameter to control this behavior.\n",
      "  _warn_prf(average, modifier, f\"{metric.capitalize()} is\", len(result))\n",
      "c:\\Users\\ranuL\\Documents\\GitHub\\GenreWave\\venv\\Lib\\site-packages\\sklearn\\metrics\\_classification.py:1565: UndefinedMetricWarning: Precision is ill-defined and being set to 0.0 in labels with no predicted samples. Use `zero_division` parameter to control this behavior.\n",
      "  _warn_prf(average, modifier, f\"{metric.capitalize()} is\", len(result))\n",
      "c:\\Users\\ranuL\\Documents\\GitHub\\GenreWave\\venv\\Lib\\site-packages\\sklearn\\metrics\\_classification.py:1565: UndefinedMetricWarning: Precision is ill-defined and being set to 0.0 in labels with no predicted samples. Use `zero_division` parameter to control this behavior.\n",
      "  _warn_prf(average, modifier, f\"{metric.capitalize()} is\", len(result))\n"
     ]
    }
   ],
   "source": [
    "y_preds = []\n",
    "y_true = []\n",
    "\n",
    "with torch.no_grad():\n",
    "    for x_batch, y_batch in test_loader:\n",
    "        x_batch = x_batch.to(device)\n",
    "        outputs = model(x_batch)\n",
    "        preds = torch.argmax(outputs, dim=1)\n",
    "\n",
    "        y_preds.extend(preds.cpu().numpy())\n",
    "        y_true.extend(y_batch.cpu().numpy())\n",
    "\n",
    "from sklearn.metrics import classification_report\n",
    "genre_id_to_name = {\n",
    "    0: 'Electronic',\n",
    "    1: 'Experimental',\n",
    "    2: 'Folk',\n",
    "    3: 'Hip-Hop',\n",
    "    4: 'Instrumental',\n",
    "    5: 'International',\n",
    "    6: 'Pop',\n",
    "    7: 'Rock'\n",
    "}\n",
    "\n",
    "print(classification_report(\n",
    "    y_true,\n",
    "    y_preds,\n",
    "    target_names=[genre_id_to_name[i] for i in sorted(genre_id_to_name.keys())]\n",
    "))\n"
   ]
  },
  {
   "cell_type": "code",
   "execution_count": 31,
   "id": "b1fe74fa-bfeb-47b6-b376-caa03c8c510d",
   "metadata": {},
   "outputs": [
    {
     "name": "stderr",
     "output_type": "stream",
     "text": [
      "c:\\Users\\ranuL\\Documents\\GitHub\\GenreWave\\venv\\Lib\\site-packages\\sklearn\\metrics\\_classification.py:1565: UndefinedMetricWarning: Precision is ill-defined and being set to 0.0 in labels with no predicted samples. Use `zero_division` parameter to control this behavior.\n",
      "  _warn_prf(average, modifier, f\"{metric.capitalize()} is\", len(result))\n",
      "c:\\Users\\ranuL\\Documents\\GitHub\\GenreWave\\venv\\Lib\\site-packages\\sklearn\\metrics\\_classification.py:1565: UndefinedMetricWarning: Precision is ill-defined and being set to 0.0 in labels with no predicted samples. Use `zero_division` parameter to control this behavior.\n",
      "  _warn_prf(average, modifier, f\"{metric.capitalize()} is\", len(result))\n",
      "c:\\Users\\ranuL\\Documents\\GitHub\\GenreWave\\venv\\Lib\\site-packages\\sklearn\\metrics\\_classification.py:1565: UndefinedMetricWarning: Precision is ill-defined and being set to 0.0 in labels with no predicted samples. Use `zero_division` parameter to control this behavior.\n",
      "  _warn_prf(average, modifier, f\"{metric.capitalize()} is\", len(result))\n"
     ]
    }
   ],
   "source": [
    "with open('../reports/lstm_mfcc/lstm_classification_report_without_class_weights.txt', 'w') as f:\n",
    "    f.write(classification_report(\n",
    "        y_true,\n",
    "        y_preds,\n",
    "        target_names=[genre_id_to_name[i] for i in sorted(genre_id_to_name.keys())]\n",
    "    ))"
   ]
  },
  {
   "cell_type": "code",
   "execution_count": 32,
   "id": "9c9f8649-b750-46c7-bbdd-d4e0617b1fb0",
   "metadata": {},
   "outputs": [
    {
     "data": {
      "image/png": "[encoded data removed]",
      "text/plain": [
       "<Figure size 1000x500 with 2 Axes>"
      ]
     },
     "metadata": {},
     "output_type": "display_data"
    }
   ],
   "source": [
    "import matplotlib.pyplot as plt\n",
    "\n",
    "plt.figure(figsize=(10, 5))\n",
    "plt.subplot(1, 2, 1)\n",
    "plt.plot(train_losses, label='Train Loss')\n",
    "plt.plot(val_losses, label='Val Loss')\n",
    "plt.title(\"Loss Curve\")\n",
    "plt.xlabel(\"Epochs\")\n",
    "plt.ylabel(\"Loss\")\n",
    "plt.legend()\n",
    "\n",
    "plt.subplot(1, 2, 2)\n",
    "plt.plot(train_accuracies, label='Train Accuracy')\n",
    "plt.plot(val_accuracies, label='Val Accuracy')\n",
    "plt.title(\"Accuracy Curve\")\n",
    "plt.xlabel(\"Epochs\")\n",
    "plt.ylabel(\"Accuracy\")\n",
    "plt.legend()\n",
    "plt.tight_layout()\n",
    "plt.show()\n"
   ]
  },
  {
   "cell_type": "code",
   "execution_count": null,
   "id": "c8f93217-ae22-4123-b6e9-1c06d0c1589b",
   "metadata": {},
   "outputs": [],
   "source": []
  },
  {
   "cell_type": "code",
   "execution_count": 33,
   "id": "46d5759b-25d0-4bdf-b646-9e5c5ba23e10",
   "metadata": {},
   "outputs": [
    {
     "name": "stdout",
     "output_type": "stream",
     "text": [
      "Train class distribution:\n",
      "Class 0: 800 samples\n",
      "Class 1: 794 samples\n",
      "Class 2: 797 samples\n",
      "Class 3: 794 samples\n",
      "Class 4: 806 samples\n",
      "Class 5: 811 samples\n",
      "Class 6: 792 samples\n",
      "Class 7: 803 samples\n"
     ]
    }
   ],
   "source": [
    "from collections import Counter\n",
    "\n",
    "# Extract class labels from train_set\n",
    "train_labels = [label.item() if torch.is_tensor(label) else label for _, label in train_set]\n",
    "\n",
    "# Count frequency of each class\n",
    "label_counts = Counter(train_labels)\n",
    "\n",
    "print(\"Train class distribution:\")\n",
    "for class_id, count in sorted(label_counts.items()):\n",
    "    print(f\"Class {class_id}: {count} samples\")"
   ]
  },
  {
   "cell_type": "markdown",
   "id": "6abe00ff-7668-4913-b50b-a7607389a2b7",
   "metadata": {},
   "source": [
    "### The above results we can clearly interpret the following\n",
    "- **Precision = 0.00 for 7/8 classes:**  Model never predicted those classes at all.\n",
    "- **Recall = 1.00 for Folk only:** Model predicted only 'Folk' — for every input\n",
    "- **LSTM is biased towards a single class \"Folk\"**. Failing to learn useful decision boundaries between genres could be due to multiple reasons like, difficulty in learning MFCC patterns by model, model might be overfitting certain temporal patterns, loss function \"CrossEntropyLoss\" treats all errors equally and missclassification gets no penalty.\n",
    "### Solution: \n",
    "using class_weights in cross entropy"
   ]
  },
  {
   "cell_type": "code",
   "execution_count": 34,
   "id": "2cf65a14-23d5-4e4b-83d8-6588965f3b32",
   "metadata": {},
   "outputs": [
    {
     "name": "stdout",
     "output_type": "stream",
     "text": [
      "Class weights: [0.99953125 1.00708438 1.0032936  1.00708438 0.99209057 0.98597411\n",
      " 1.00962753 0.99579701]\n"
     ]
    }
   ],
   "source": [
    "# Extract true labels from the train set\n",
    "y_train_labels = [y for _, y in train_set]\n",
    "y_train_labels = [label.item() if torch.is_tensor(label) else label for label in y_train_labels]\n",
    "\n",
    "# Compute class weights\n",
    "class_weights = compute_class_weight(\n",
    "    class_weight='balanced',\n",
    "    classes=np.unique(y_train_labels),\n",
    "    y=y_train_labels\n",
    ")\n",
    "print(\"Class weights:\", class_weights)\n",
    "# Convert to torch tensor\n",
    "weights_tensor = torch.tensor(class_weights, dtype=torch.float32).to(device)"
   ]
  },
  {
   "cell_type": "code",
   "execution_count": 35,
   "id": "f06ad910-413d-45ca-a5ef-60e698167001",
   "metadata": {},
   "outputs": [],
   "source": [
    "device = torch.device('cuda' if torch.cuda.is_available() else 'cpu')\n",
    "\n",
    "model = LSTMClassifier(num_classes=len(set(label_map.values())))\n",
    "model.to(device)\n",
    "\n",
    "criterion = nn.CrossEntropyLoss(weight=weights_tensor)\n",
    "optimizer = optim.Adam(model.parameters(), lr=0.001)"
   ]
  },
  {
   "cell_type": "code",
   "execution_count": 37,
   "id": "5352d2ac-8c88-4bf3-8808-73cb9a3c6465",
   "metadata": {},
   "outputs": [],
   "source": [
    "def train(model, loader, criterion, optimizer):\n",
    "    model.train()\n",
    "    total_loss, correct = 0, 0\n",
    "    for x_batch, y_batch in loader:\n",
    "        x_batch, y_batch = x_batch.to(device), y_batch.to(device)\n",
    "\n",
    "        optimizer.zero_grad()\n",
    "        outputs = model(x_batch)\n",
    "        loss = criterion(outputs, y_batch)\n",
    "        loss.backward()\n",
    "        optimizer.step()\n",
    "\n",
    "        total_loss += loss.item()\n",
    "        correct += (outputs.argmax(1) == y_batch).sum().item()\n",
    "\n",
    "    avg_loss = total_loss / len(loader)\n",
    "    accuracy = correct / len(loader.dataset)\n",
    "    return avg_loss, accuracy\n",
    "\n",
    "def evaluate(model, loader, criterion):\n",
    "    model.eval()\n",
    "    total_loss, correct = 0, 0\n",
    "    with torch.no_grad():\n",
    "        for x_batch, y_batch in loader:\n",
    "            x_batch, y_batch = x_batch.to(device), y_batch.to(device)\n",
    "            outputs = model(x_batch)\n",
    "            loss = criterion(outputs, y_batch)\n",
    "            total_loss += loss.item()\n",
    "            correct += (outputs.argmax(1) == y_batch).sum().item()\n",
    "\n",
    "    avg_loss = total_loss / len(loader)\n",
    "    accuracy = correct / len(loader.dataset)\n",
    "    return avg_loss, accuracy"
   ]
  },
  {
   "cell_type": "code",
   "execution_count": 39,
   "id": "639acacf-e2a1-4217-b5d7-1194c4c0bd49",
   "metadata": {},
   "outputs": [
    {
     "name": "stdout",
     "output_type": "stream",
     "text": [
      "Epoch 1/2\n",
      "  Train Loss: 1.9339, Accuracy: 0.2553\n",
      "  Val   Loss: 1.9107, Accuracy: 0.2781\n",
      "Epoch 2/2\n",
      "  Train Loss: 1.9310, Accuracy: 0.2575\n",
      "  Val   Loss: 1.9027, Accuracy: 0.2769\n"
     ]
    }
   ],
   "source": [
    "train_losses, val_losses = [], []\n",
    "train_accuracies, val_accuracies = [], []\n",
    "\n",
    "epochs = 20\n",
    "for epoch in range(epochs):\n",
    "    train_loss, train_acc = train(model, train_loader, criterion, optimizer)\n",
    "    val_loss, val_acc = evaluate(model, test_loader, criterion)\n",
    "\n",
    "    train_losses.append(train_loss)\n",
    "    val_losses.append(val_loss)\n",
    "    train_accuracies.append(train_acc)\n",
    "    val_accuracies.append(val_acc)\n",
    "\n",
    "    print(f\"Epoch {epoch+1}/{epochs}\")\n",
    "    print(f\"  Train Loss: {train_loss:.4f}, Accuracy: {train_acc:.4f}\")\n",
    "    print(f\"  Val   Loss: {val_loss:.4f}, Accuracy: {val_acc:.4f}\")"
   ]
  },
  {
   "cell_type": "code",
   "execution_count": null,
   "id": "199938af-6f2b-47d2-a790-43a34fcfb027",
   "metadata": {},
   "outputs": [],
   "source": [
    "torch.save(model.state_dict(), '../models/lstm_genre_classifier_with_class_weights.pth') "
   ]
  },
  {
   "cell_type": "code",
   "execution_count": 40,
   "id": "853a5e5c-2b78-470b-a5ef-82ef0dcd6f7f",
   "metadata": {},
   "outputs": [
    {
     "data": {
      "image/png": "[encoded data removed]",
      "text/plain": [
       "<Figure size 1200x500 with 2 Axes>"
      ]
     },
     "metadata": {},
     "output_type": "display_data"
    }
   ],
   "source": [
    "epochs = range(1, len(train_losses) + 1)\n",
    "\n",
    "plt.figure(figsize=(12, 5))\n",
    "\n",
    "# Plot Loss\n",
    "plt.subplot(1, 2, 1)\n",
    "plt.plot(epochs, train_losses, label='Train Loss')\n",
    "plt.plot(epochs, val_losses, label='Val Loss')\n",
    "plt.xlabel('Epochs')\n",
    "plt.ylabel('Loss')\n",
    "plt.title('Loss Curve (With Class Weights)')\n",
    "plt.legend()\n",
    "\n",
    "# Plot Accuracy\n",
    "plt.subplot(1, 2, 2)\n",
    "plt.plot(epochs, train_accuracies, label='Train Accuracy')\n",
    "plt.plot(epochs, val_accuracies, label='Val Accuracy')\n",
    "plt.xlabel('Epochs')\n",
    "plt.ylabel('Accuracy')\n",
    "plt.title('Accuracy Curve (With Class Weights)')\n",
    "plt.legend()\n",
    "\n",
    "plt.tight_layout()\n",
    "plt.show()"
   ]
  },
  {
   "cell_type": "code",
   "execution_count": 41,
   "id": "4e47dbf7-53b3-4330-8d05-d26c9efefee0",
   "metadata": {},
   "outputs": [
    {
     "name": "stdout",
     "output_type": "stream",
     "text": [
      "               precision    recall  f1-score   support\n",
      "\n",
      "   Electronic       0.50      0.01      0.02       199\n",
      " Experimental       0.20      0.01      0.02       205\n",
      "         Folk       0.21      0.32      0.26       203\n",
      "      Hip-Hop       0.31      0.26      0.28       206\n",
      " Instrumental       0.29      0.50      0.37       194\n",
      "International       0.22      0.51      0.31       189\n",
      "          Pop       0.50      0.01      0.02       208\n",
      "         Rock       0.38      0.64      0.48       196\n",
      "\n",
      "     accuracy                           0.28      1600\n",
      "    macro avg       0.33      0.28      0.22      1600\n",
      " weighted avg       0.33      0.28      0.21      1600\n",
      "\n"
     ]
    }
   ],
   "source": [
    "# Classification Report\n",
    "model.eval()\n",
    "y_preds = []\n",
    "y_true = []\n",
    "\n",
    "with torch.no_grad():\n",
    "    for x_batch, y_batch in test_loader:\n",
    "        x_batch = x_batch.to(device)\n",
    "        outputs = model(x_batch)\n",
    "        preds = torch.argmax(outputs, dim=1)\n",
    "\n",
    "        y_preds.extend(preds.cpu().numpy())\n",
    "        y_true.extend(y_batch.cpu().numpy())\n",
    "\n",
    "genre_id_to_name = {\n",
    "    0: 'Electronic',\n",
    "    1: 'Experimental',\n",
    "    2: 'Folk',\n",
    "    3: 'Hip-Hop',\n",
    "    4: 'Instrumental',\n",
    "    5: 'International',\n",
    "    6: 'Pop',\n",
    "    7: 'Rock'\n",
    "}\n",
    "\n",
    "class_names = [genre_id_to_name[i] for i in sorted(genre_id_to_name)]\n",
    "print(classification_report(\n",
    "    y_true,\n",
    "    y_preds,\n",
    "    target_names=[genre_id_to_name[i] for i in sorted(genre_id_to_name.keys())]\n",
    "))"
   ]
  },
  {
   "cell_type": "code",
   "execution_count": 42,
   "id": "d2d0b6e0-e270-4835-ba27-0fdd8b3fa3e8",
   "metadata": {},
   "outputs": [],
   "source": [
    "with open('../reports/lstm_mfcc/lstm_classification_report_with_class_weights.txt', 'w') as f:\n",
    "    f.write(classification_report(\n",
    "        y_true,\n",
    "        y_preds,\n",
    "        target_names=[genre_id_to_name[i] for i in sorted(genre_id_to_name.keys())]\n",
    "    ))"
   ]
  },
  {
   "cell_type": "code",
   "execution_count": 43,
   "id": "11d7851b-bb3c-47f5-9ab3-89e9dd23e089",
   "metadata": {},
   "outputs": [],
   "source": [
    "## confusion matrix"
   ]
  },
  {
   "cell_type": "code",
   "execution_count": null,
   "id": "935c08f3-69b6-4434-8092-7d6388cc03c4",
   "metadata": {},
   "outputs": [],
   "source": [
    "def evaluate_and_plot(model_path, model_label):\n",
    "    # Reload model\n",
    "    model = LSTMClassifier(input_size=20, hidden_size=128, num_layers=3, num_classes=8, dropout=0.3)\n",
    "    map_loc = torch.device('cuda' if torch.cuda.is_available() else 'cpu')\n",
    "    model.load_state_dict(torch.load(model_path, map_location=map_loc))\n",
    "    model.to(device)\n",
    "    model.eval()\n",
    "\n",
    "    y_true, y_pred = [], []\n",
    "    with torch.no_grad():\n",
    "        for x_batch, y_batch in test_loader:\n",
    "            x_batch = x_batch.to(device)\n",
    "            outputs = model(x_batch)\n",
    "            preds = torch.argmax(outputs, dim=1)\n",
    "            y_pred.extend(preds.cpu().numpy())\n",
    "            y_true.extend(y_batch.cpu().numpy())\n",
    "\n",
    "    # Confusion matrix\n",
    "    cm = confusion_matrix(y_true, y_pred)\n",
    "    plt.figure(figsize=(10, 8))\n",
    "    sns.heatmap(cm, annot=True, fmt='d', cmap='Blues',\n",
    "                xticklabels=class_names, yticklabels=class_names)\n",
    "    plt.xlabel('Predicted')\n",
    "    plt.ylabel('True')\n",
    "    plt.title(f'Confusion Matrix - {model_label}')\n",
    "    plt.xticks(rotation=45)\n",
    "    plt.yticks(rotation=0)\n",
    "    plt.tight_layout()\n",
    "    plt.savefig(f'../reports/lstm_mfcc/confusion_matrix_{model_label.replace(\" \", \"_\").lower()}.png')\n",
    "    plt.show()"
   ]
  },
  {
   "cell_type": "code",
   "execution_count": 45,
   "id": "39a51977-e1e4-4026-9b0a-4e21f2777ae4",
   "metadata": {
    "scrolled": true
   },
   "outputs": [
    {
     "ename": "RuntimeError",
     "evalue": "Attempting to deserialize object on a CUDA device but torch.cuda.is_available() is False. If you are running on a CPU-only machine, please use torch.load with map_location=torch.device('cpu') to map your storages to the CPU.",
     "output_type": "error",
     "traceback": [
      "\u001b[31m---------------------------------------------------------------------------\u001b[39m",
      "\u001b[31mRuntimeError\u001b[39m                              Traceback (most recent call last)",
      "\u001b[36mCell\u001b[39m\u001b[36m \u001b[39m\u001b[32mIn[45]\u001b[39m\u001b[32m, line 1\u001b[39m\n\u001b[32m----> \u001b[39m\u001b[32m1\u001b[39m \u001b[43mevaluate_and_plot\u001b[49m\u001b[43m(\u001b[49m\u001b[33;43m'\u001b[39;49m\u001b[33;43m../models/lstm_genre_classifier.pth\u001b[39;49m\u001b[33;43m'\u001b[39;49m\u001b[43m,\u001b[49m\u001b[43m \u001b[49m\u001b[33;43m'\u001b[39;49m\u001b[33;43mLSTM Without Class Weights\u001b[39;49m\u001b[33;43m'\u001b[39;49m\u001b[43m)\u001b[49m\n\u001b[32m      2\u001b[39m evaluate_and_plot(\u001b[33m'\u001b[39m\u001b[33m../models/lstm_genre_classifier_with_class_weights.pth\u001b[39m\u001b[33m'\u001b[39m, \u001b[33m'\u001b[39m\u001b[33mLSTM With Class Weights\u001b[39m\u001b[33m'\u001b[39m)\n",
      "\u001b[36mCell\u001b[39m\u001b[36m \u001b[39m\u001b[32mIn[44]\u001b[39m\u001b[32m, line 4\u001b[39m, in \u001b[36mevaluate_and_plot\u001b[39m\u001b[34m(model_path, model_label)\u001b[39m\n\u001b[32m      1\u001b[39m \u001b[38;5;28;01mdef\u001b[39;00m\u001b[38;5;250m \u001b[39m\u001b[34mevaluate_and_plot\u001b[39m(model_path, model_label):\n\u001b[32m      2\u001b[39m     \u001b[38;5;66;03m# Reload model\u001b[39;00m\n\u001b[32m      3\u001b[39m     model = LSTMClassifier(input_size=\u001b[32m20\u001b[39m, hidden_size=\u001b[32m128\u001b[39m, num_layers=\u001b[32m3\u001b[39m, num_classes=\u001b[32m8\u001b[39m, dropout=\u001b[32m0.3\u001b[39m)\n\u001b[32m----> \u001b[39m\u001b[32m4\u001b[39m     model.load_state_dict(\u001b[43mtorch\u001b[49m\u001b[43m.\u001b[49m\u001b[43mload\u001b[49m\u001b[43m(\u001b[49m\u001b[43mmodel_path\u001b[49m\u001b[43m)\u001b[49m)\n\u001b[32m      5\u001b[39m     model.to(device)\n\u001b[32m      6\u001b[39m     model.eval()\n",
      "\u001b[36mFile \u001b[39m\u001b[32mc:\\Users\\ranuL\\Documents\\GitHub\\GenreWave\\venv\\Lib\\site-packages\\torch\\serialization.py:1516\u001b[39m, in \u001b[36mload\u001b[39m\u001b[34m(f, map_location, pickle_module, weights_only, mmap, **pickle_load_args)\u001b[39m\n\u001b[32m   1514\u001b[39m \u001b[38;5;28;01mif\u001b[39;00m weights_only:\n\u001b[32m   1515\u001b[39m     \u001b[38;5;28;01mtry\u001b[39;00m:\n\u001b[32m-> \u001b[39m\u001b[32m1516\u001b[39m         \u001b[38;5;28;01mreturn\u001b[39;00m \u001b[43m_load\u001b[49m\u001b[43m(\u001b[49m\n\u001b[32m   1517\u001b[39m \u001b[43m            \u001b[49m\u001b[43mopened_zipfile\u001b[49m\u001b[43m,\u001b[49m\n\u001b[32m   1518\u001b[39m \u001b[43m            \u001b[49m\u001b[43mmap_location\u001b[49m\u001b[43m,\u001b[49m\n\u001b[32m   1519\u001b[39m \u001b[43m            \u001b[49m\u001b[43m_weights_only_unpickler\u001b[49m\u001b[43m,\u001b[49m\n\u001b[32m   1520\u001b[39m \u001b[43m            \u001b[49m\u001b[43moverall_storage\u001b[49m\u001b[43m=\u001b[49m\u001b[43moverall_storage\u001b[49m\u001b[43m,\u001b[49m\n\u001b[32m   1521\u001b[39m \u001b[43m            \u001b[49m\u001b[43m*\u001b[49m\u001b[43m*\u001b[49m\u001b[43mpickle_load_args\u001b[49m\u001b[43m,\u001b[49m\n\u001b[32m   1522\u001b[39m \u001b[43m        \u001b[49m\u001b[43m)\u001b[49m\n\u001b[32m   1523\u001b[39m     \u001b[38;5;28;01mexcept\u001b[39;00m pickle.UnpicklingError \u001b[38;5;28;01mas\u001b[39;00m e:\n\u001b[32m   1524\u001b[39m         \u001b[38;5;28;01mraise\u001b[39;00m pickle.UnpicklingError(_get_wo_message(\u001b[38;5;28mstr\u001b[39m(e))) \u001b[38;5;28;01mfrom\u001b[39;00m\u001b[38;5;250m \u001b[39m\u001b[38;5;28;01mNone\u001b[39;00m\n",
      "\u001b[36mFile \u001b[39m\u001b[32mc:\\Users\\ranuL\\Documents\\GitHub\\GenreWave\\venv\\Lib\\site-packages\\torch\\serialization.py:2114\u001b[39m, in \u001b[36m_load\u001b[39m\u001b[34m(zip_file, map_location, pickle_module, pickle_file, overall_storage, **pickle_load_args)\u001b[39m\n\u001b[32m   2112\u001b[39m \u001b[38;5;28;01mglobal\u001b[39;00m _serialization_tls\n\u001b[32m   2113\u001b[39m _serialization_tls.map_location = map_location\n\u001b[32m-> \u001b[39m\u001b[32m2114\u001b[39m result = \u001b[43munpickler\u001b[49m\u001b[43m.\u001b[49m\u001b[43mload\u001b[49m\u001b[43m(\u001b[49m\u001b[43m)\u001b[49m\n\u001b[32m   2115\u001b[39m _serialization_tls.map_location = \u001b[38;5;28;01mNone\u001b[39;00m\n\u001b[32m   2117\u001b[39m torch._utils._validate_loaded_sparse_tensors()\n",
      "\u001b[36mFile \u001b[39m\u001b[32mc:\\Users\\ranuL\\Documents\\GitHub\\GenreWave\\venv\\Lib\\site-packages\\torch\\_weights_only_unpickler.py:532\u001b[39m, in \u001b[36mUnpickler.load\u001b[39m\u001b[34m(self)\u001b[39m\n\u001b[32m    524\u001b[39m     \u001b[38;5;28;01mif\u001b[39;00m (\n\u001b[32m    525\u001b[39m         \u001b[38;5;28mtype\u001b[39m(pid) \u001b[38;5;129;01mis\u001b[39;00m \u001b[38;5;28mtuple\u001b[39m\n\u001b[32m    526\u001b[39m         \u001b[38;5;129;01mand\u001b[39;00m \u001b[38;5;28mlen\u001b[39m(pid) > \u001b[32m0\u001b[39m\n\u001b[32m    527\u001b[39m         \u001b[38;5;129;01mand\u001b[39;00m torch.serialization._maybe_decode_ascii(pid[\u001b[32m0\u001b[39m]) != \u001b[33m\"\u001b[39m\u001b[33mstorage\u001b[39m\u001b[33m\"\u001b[39m\n\u001b[32m    528\u001b[39m     ):\n\u001b[32m    529\u001b[39m         \u001b[38;5;28;01mraise\u001b[39;00m UnpicklingError(\n\u001b[32m    530\u001b[39m             \u001b[33mf\u001b[39m\u001b[33m\"\u001b[39m\u001b[33mOnly persistent_load of storage is allowed, but got \u001b[39m\u001b[38;5;132;01m{\u001b[39;00mpid[\u001b[32m0\u001b[39m]\u001b[38;5;132;01m}\u001b[39;00m\u001b[33m\"\u001b[39m\n\u001b[32m    531\u001b[39m         )\n\u001b[32m--> \u001b[39m\u001b[32m532\u001b[39m     \u001b[38;5;28mself\u001b[39m.append(\u001b[38;5;28;43mself\u001b[39;49m\u001b[43m.\u001b[49m\u001b[43mpersistent_load\u001b[49m\u001b[43m(\u001b[49m\u001b[43mpid\u001b[49m\u001b[43m)\u001b[49m)\n\u001b[32m    533\u001b[39m \u001b[38;5;28;01melif\u001b[39;00m key[\u001b[32m0\u001b[39m] \u001b[38;5;129;01min\u001b[39;00m [BINGET[\u001b[32m0\u001b[39m], LONG_BINGET[\u001b[32m0\u001b[39m]]:\n\u001b[32m    534\u001b[39m     idx = (read(\u001b[32m1\u001b[39m) \u001b[38;5;28;01mif\u001b[39;00m key[\u001b[32m0\u001b[39m] == BINGET[\u001b[32m0\u001b[39m] \u001b[38;5;28;01melse\u001b[39;00m unpack(\u001b[33m\"\u001b[39m\u001b[33m<I\u001b[39m\u001b[33m\"\u001b[39m, read(\u001b[32m4\u001b[39m)))[\u001b[32m0\u001b[39m]\n",
      "\u001b[36mFile \u001b[39m\u001b[32mc:\\Users\\ranuL\\Documents\\GitHub\\GenreWave\\venv\\Lib\\site-packages\\torch\\serialization.py:2078\u001b[39m, in \u001b[36m_load.<locals>.persistent_load\u001b[39m\u001b[34m(saved_id)\u001b[39m\n\u001b[32m   2076\u001b[39m \u001b[38;5;28;01melse\u001b[39;00m:\n\u001b[32m   2077\u001b[39m     nbytes = numel * torch._utils._element_size(dtype)\n\u001b[32m-> \u001b[39m\u001b[32m2078\u001b[39m     typed_storage = \u001b[43mload_tensor\u001b[49m\u001b[43m(\u001b[49m\n\u001b[32m   2079\u001b[39m \u001b[43m        \u001b[49m\u001b[43mdtype\u001b[49m\u001b[43m,\u001b[49m\u001b[43m \u001b[49m\u001b[43mnbytes\u001b[49m\u001b[43m,\u001b[49m\u001b[43m \u001b[49m\u001b[43mkey\u001b[49m\u001b[43m,\u001b[49m\u001b[43m \u001b[49m\u001b[43m_maybe_decode_ascii\u001b[49m\u001b[43m(\u001b[49m\u001b[43mlocation\u001b[49m\u001b[43m)\u001b[49m\n\u001b[32m   2080\u001b[39m \u001b[43m    \u001b[49m\u001b[43m)\u001b[49m\n\u001b[32m   2082\u001b[39m \u001b[38;5;28;01mreturn\u001b[39;00m typed_storage\n",
      "\u001b[36mFile \u001b[39m\u001b[32mc:\\Users\\ranuL\\Documents\\GitHub\\GenreWave\\venv\\Lib\\site-packages\\torch\\serialization.py:2044\u001b[39m, in \u001b[36m_load.<locals>.load_tensor\u001b[39m\u001b[34m(dtype, numel, key, location)\u001b[39m\n\u001b[32m   2040\u001b[39m \u001b[38;5;66;03m# TODO: Once we decide to break serialization FC, we can\u001b[39;00m\n\u001b[32m   2041\u001b[39m \u001b[38;5;66;03m# stop wrapping with TypedStorage\u001b[39;00m\n\u001b[32m   2043\u001b[39m \u001b[38;5;28;01mif\u001b[39;00m torch._guards.detect_fake_mode(\u001b[38;5;28;01mNone\u001b[39;00m) \u001b[38;5;129;01mis\u001b[39;00m \u001b[38;5;28;01mNone\u001b[39;00m:\n\u001b[32m-> \u001b[39m\u001b[32m2044\u001b[39m     wrap_storage = \u001b[43mrestore_location\u001b[49m\u001b[43m(\u001b[49m\u001b[43mstorage\u001b[49m\u001b[43m,\u001b[49m\u001b[43m \u001b[49m\u001b[43mlocation\u001b[49m\u001b[43m)\u001b[49m\n\u001b[32m   2045\u001b[39m \u001b[38;5;28;01melse\u001b[39;00m:\n\u001b[32m   2046\u001b[39m     storage._fake_device = location\n",
      "\u001b[36mFile \u001b[39m\u001b[32mc:\\Users\\ranuL\\Documents\\GitHub\\GenreWave\\venv\\Lib\\site-packages\\torch\\serialization.py:698\u001b[39m, in \u001b[36mdefault_restore_location\u001b[39m\u001b[34m(storage, location)\u001b[39m\n\u001b[32m    678\u001b[39m \u001b[38;5;250m\u001b[39m\u001b[33;03m\"\"\"\u001b[39;00m\n\u001b[32m    679\u001b[39m \u001b[33;03mRestores `storage` using a deserializer function registered for the `location`.\u001b[39;00m\n\u001b[32m    680\u001b[39m \n\u001b[32m   (...)\u001b[39m\u001b[32m    695\u001b[39m \u001b[33;03m       all matching ones return `None`.\u001b[39;00m\n\u001b[32m    696\u001b[39m \u001b[33;03m\"\"\"\u001b[39;00m\n\u001b[32m    697\u001b[39m \u001b[38;5;28;01mfor\u001b[39;00m _, _, fn \u001b[38;5;129;01min\u001b[39;00m _package_registry:\n\u001b[32m--> \u001b[39m\u001b[32m698\u001b[39m     result = \u001b[43mfn\u001b[49m\u001b[43m(\u001b[49m\u001b[43mstorage\u001b[49m\u001b[43m,\u001b[49m\u001b[43m \u001b[49m\u001b[43mlocation\u001b[49m\u001b[43m)\u001b[49m\n\u001b[32m    699\u001b[39m     \u001b[38;5;28;01mif\u001b[39;00m result \u001b[38;5;129;01mis\u001b[39;00m \u001b[38;5;129;01mnot\u001b[39;00m \u001b[38;5;28;01mNone\u001b[39;00m:\n\u001b[32m    700\u001b[39m         \u001b[38;5;28;01mreturn\u001b[39;00m result\n",
      "\u001b[36mFile \u001b[39m\u001b[32mc:\\Users\\ranuL\\Documents\\GitHub\\GenreWave\\venv\\Lib\\site-packages\\torch\\serialization.py:636\u001b[39m, in \u001b[36m_deserialize\u001b[39m\u001b[34m(backend_name, obj, location)\u001b[39m\n\u001b[32m    634\u001b[39m     backend_name = torch._C._get_privateuse1_backend_name()\n\u001b[32m    635\u001b[39m \u001b[38;5;28;01mif\u001b[39;00m location.startswith(backend_name):\n\u001b[32m--> \u001b[39m\u001b[32m636\u001b[39m     device = \u001b[43m_validate_device\u001b[49m\u001b[43m(\u001b[49m\u001b[43mlocation\u001b[49m\u001b[43m,\u001b[49m\u001b[43m \u001b[49m\u001b[43mbackend_name\u001b[49m\u001b[43m)\u001b[49m\n\u001b[32m    637\u001b[39m     \u001b[38;5;28;01mreturn\u001b[39;00m obj.to(device=device)\n",
      "\u001b[36mFile \u001b[39m\u001b[32mc:\\Users\\ranuL\\Documents\\GitHub\\GenreWave\\venv\\Lib\\site-packages\\torch\\serialization.py:605\u001b[39m, in \u001b[36m_validate_device\u001b[39m\u001b[34m(location, backend_name)\u001b[39m\n\u001b[32m    603\u001b[39m     device_index = device.index \u001b[38;5;28;01mif\u001b[39;00m device.index \u001b[38;5;28;01melse\u001b[39;00m \u001b[32m0\u001b[39m\n\u001b[32m    604\u001b[39m \u001b[38;5;28;01mif\u001b[39;00m \u001b[38;5;28mhasattr\u001b[39m(device_module, \u001b[33m\"\u001b[39m\u001b[33mis_available\u001b[39m\u001b[33m\"\u001b[39m) \u001b[38;5;129;01mand\u001b[39;00m \u001b[38;5;129;01mnot\u001b[39;00m device_module.is_available():\n\u001b[32m--> \u001b[39m\u001b[32m605\u001b[39m     \u001b[38;5;28;01mraise\u001b[39;00m \u001b[38;5;167;01mRuntimeError\u001b[39;00m(\n\u001b[32m    606\u001b[39m         \u001b[33mf\u001b[39m\u001b[33m\"\u001b[39m\u001b[33mAttempting to deserialize object on a \u001b[39m\u001b[38;5;132;01m{\u001b[39;00mbackend_name.upper()\u001b[38;5;132;01m}\u001b[39;00m\u001b[33m \u001b[39m\u001b[33m\"\u001b[39m\n\u001b[32m    607\u001b[39m         \u001b[33mf\u001b[39m\u001b[33m\"\u001b[39m\u001b[33mdevice but torch.\u001b[39m\u001b[38;5;132;01m{\u001b[39;00mbackend_name\u001b[38;5;132;01m}\u001b[39;00m\u001b[33m.is_available() is False. \u001b[39m\u001b[33m\"\u001b[39m\n\u001b[32m    608\u001b[39m         \u001b[33m\"\u001b[39m\u001b[33mIf you are running on a CPU-only machine, \u001b[39m\u001b[33m\"\u001b[39m\n\u001b[32m    609\u001b[39m         \u001b[33m\"\u001b[39m\u001b[33mplease use torch.load with map_location=torch.device(\u001b[39m\u001b[33m'\u001b[39m\u001b[33mcpu\u001b[39m\u001b[33m'\u001b[39m\u001b[33m) \u001b[39m\u001b[33m\"\u001b[39m\n\u001b[32m    610\u001b[39m         \u001b[33m\"\u001b[39m\u001b[33mto map your storages to the CPU.\u001b[39m\u001b[33m\"\u001b[39m\n\u001b[32m    611\u001b[39m     )\n\u001b[32m    612\u001b[39m \u001b[38;5;28;01mif\u001b[39;00m \u001b[38;5;28mhasattr\u001b[39m(device_module, \u001b[33m\"\u001b[39m\u001b[33mdevice_count\u001b[39m\u001b[33m\"\u001b[39m):\n\u001b[32m    613\u001b[39m     device_count = device_module.device_count()\n",
      "\u001b[31mRuntimeError\u001b[39m: Attempting to deserialize object on a CUDA device but torch.cuda.is_available() is False. If you are running on a CPU-only machine, please use torch.load with map_location=torch.device('cpu') to map your storages to the CPU."
     ]
    }
   ],
   "source": [
    "evaluate_and_plot('../models/lstm_genre_classifier.pth', 'LSTM Without Class Weights')\n",
    "evaluate_and_plot('../models/lstm_genre_classifier_with_class_weights.pth', 'LSTM With Class Weights')"
   ]
  },
  {
   "cell_type": "markdown",
   "id": "f4809e6a-993f-4d61-a4f9-620ef74a0033",
   "metadata": {},
   "source": [
    "### Without class weights, the LSTM defaulted to predicting “Folk” for all samples, leading to high validation accuracy but meaningless classification. After adding class weights to penalize misclassification across all genres equally, the model began to meaningfully differentiate between genres, as reflected in the improved diagonal strength in the confusion matrix and balanced class-wise metrics"
   ]
  },
  {
   "cell_type": "code",
   "execution_count": null,
   "id": "b36e7e4c-bba8-400c-9e58-f0a58fca7637",
   "metadata": {},
   "outputs": [],
   "source": []
  }
 ],
 "metadata": {
  "kernelspec": {
   "display_name": "venv",
   "language": "python",
   "name": "python3"
  },
  "language_info": {
   "codemirror_mode": {
    "name": "ipython",
    "version": 3
   },
   "file_extension": ".py",
   "mimetype": "text/x-python",
   "name": "python",
   "nbconvert_exporter": "python",
   "pygments_lexer": "ipython3",
   "version": "3.12.2"
  }
 },
 "nbformat": 4,
 "nbformat_minor": 5
}
