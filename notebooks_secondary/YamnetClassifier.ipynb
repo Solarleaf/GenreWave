{
 "cells": [
  {
   "cell_type": "code",
   "execution_count": null,
   "id": "a10b381a-c62c-4851-b96d-a803b9e75287",
   "metadata": {
    "scrolled": true
   },
   "outputs": [],
   "source": [
    "!pip install tensorflow-hub"
   ]
  },
  {
   "cell_type": "code",
   "execution_count": 1,
   "id": "e01c64c0-2e11-4adf-98fb-e01201637ebf",
   "metadata": {},
   "outputs": [],
   "source": [
    "import os\n",
    "os.environ[\"CUDA_VISIBLE_DEVICES\"] = \"-1\"\n",
    "\n",
    "\n",
    "os.environ[\"TF_XLA_FLAGS\"] = \"--tf_xla_enable_xla_devices=false\"\n",
    "os.environ[\"TF_ENABLE_ONEDNN_OPTS\"] = \"0\"\n",
    "\n",
    "os.environ[\"TFHUB_CACHE_DIR\"] = \"./.tfhub_cache\"\n"
   ]
  },
  {
   "cell_type": "code",
   "execution_count": 2,
   "id": "44aed7a7-29f6-4554-ab19-f03835c50dbf",
   "metadata": {},
   "outputs": [
    {
     "name": "stderr",
     "output_type": "stream",
     "text": [
      "2025-05-14 13:26:15.842994: E external/local_xla/xla/stream_executor/cuda/cuda_fft.cc:467] Unable to register cuFFT factory: Attempting to register factory for plugin cuFFT when one has already been registered\n",
      "WARNING: All log messages before absl::InitializeLog() is called are written to STDERR\n",
      "E0000 00:00:1747254375.866658  874919 cuda_dnn.cc:8579] Unable to register cuDNN factory: Attempting to register factory for plugin cuDNN when one has already been registered\n",
      "E0000 00:00:1747254375.873428  874919 cuda_blas.cc:1407] Unable to register cuBLAS factory: Attempting to register factory for plugin cuBLAS when one has already been registered\n",
      "W0000 00:00:1747254375.890821  874919 computation_placer.cc:177] computation placer already registered. Please check linkage and avoid linking the same target more than once.\n",
      "W0000 00:00:1747254375.890851  874919 computation_placer.cc:177] computation placer already registered. Please check linkage and avoid linking the same target more than once.\n",
      "W0000 00:00:1747254375.890853  874919 computation_placer.cc:177] computation placer already registered. Please check linkage and avoid linking the same target more than once.\n",
      "W0000 00:00:1747254375.890855  874919 computation_placer.cc:177] computation placer already registered. Please check linkage and avoid linking the same target more than once.\n",
      "2025-05-14 13:26:15.896402: I tensorflow/core/platform/cpu_feature_guard.cc:210] This TensorFlow binary is optimized to use available CPU instructions in performance-critical operations.\n",
      "To enable the following instructions: AVX2 AVX512F AVX512_VNNI FMA, in other operations, rebuild TensorFlow with the appropriate compiler flags.\n"
     ]
    }
   ],
   "source": [
    "import tensorflow_hub as hub\n",
    "import tensorflow as tf\n",
    "import librosa\n",
    "import numpy as np\n",
    "import joblib\n",
    "import os"
   ]
  },
  {
   "cell_type": "code",
   "execution_count": 3,
   "id": "a20ceea5-31a1-4df7-97ec-aaa8e52df618",
   "metadata": {},
   "outputs": [
    {
     "name": "stderr",
     "output_type": "stream",
     "text": [
      "2025-05-14 13:26:21.975377: E external/local_xla/xla/stream_executor/cuda/cuda_platform.cc:51] failed call to cuInit: INTERNAL: CUDA error: Failed call to cuInit: CUDA_ERROR_NO_DEVICE: no CUDA-capable device is detected\n",
      "2025-05-14 13:26:21.975422: I external/local_xla/xla/stream_executor/cuda/cuda_diagnostics.cc:167] env: CUDA_VISIBLE_DEVICES=\"-1\"\n",
      "2025-05-14 13:26:21.975429: I external/local_xla/xla/stream_executor/cuda/cuda_diagnostics.cc:170] CUDA_VISIBLE_DEVICES is set to -1 - this hides all GPUs from CUDA\n",
      "2025-05-14 13:26:21.975436: I external/local_xla/xla/stream_executor/cuda/cuda_diagnostics.cc:178] verbose logging is disabled. Rerun with verbose logging (usually --v=1 or --vmodule=cuda_diagnostics=1) to get more diagnostic output from this module\n",
      "2025-05-14 13:26:21.975441: I external/local_xla/xla/stream_executor/cuda/cuda_diagnostics.cc:183] retrieving CUDA diagnostic information for host: cscigpu\n",
      "2025-05-14 13:26:21.975444: I external/local_xla/xla/stream_executor/cuda/cuda_diagnostics.cc:190] hostname: cscigpu\n",
      "2025-05-14 13:26:21.975643: I external/local_xla/xla/stream_executor/cuda/cuda_diagnostics.cc:197] libcuda reported version is: 535.247.1\n",
      "2025-05-14 13:26:21.975687: I external/local_xla/xla/stream_executor/cuda/cuda_diagnostics.cc:201] kernel reported version is: 535.247.1\n",
      "2025-05-14 13:26:21.975690: I external/local_xla/xla/stream_executor/cuda/cuda_diagnostics.cc:291] kernel version seems to match DSO: 535.247.1\n"
     ]
    }
   ],
   "source": [
    "yamnet = hub.load(\"https://tfhub.dev/google/yamnet/1\")"
   ]
  },
  {
   "cell_type": "code",
   "execution_count": 4,
   "id": "a25aeae0-055e-4493-8119-15d71e0929ab",
   "metadata": {},
   "outputs": [],
   "source": [
    "clf = joblib.load(\"../models/yamnet_genre_classifier.pkl\")"
   ]
  },
  {
   "cell_type": "code",
   "execution_count": 5,
   "id": "ca46a5be-f2dc-4922-9cbe-bfc1221ec74f",
   "metadata": {},
   "outputs": [],
   "source": [
    "def classify_song(mp3_path):\n",
    "    # Load song\n",
    "    waveform, sr = librosa.load(mp3_path, sr=16000)\n",
    "    _, embeddings, _ = yamnet(waveform)\n",
    "\n",
    "    mean_embedding = tf.reduce_mean(embeddings, axis=0).numpy()\n",
    "\n",
    "    predicted_genre = clf.predict([mean_embedding])[0]\n",
    "\n",
    "    print(f\"🎵 Predicted Genre for {mp3_path}: {predicted_genre}\")\n",
    "    return predicted_genre\n"
   ]
  },
  {
   "cell_type": "code",
   "execution_count": 6,
   "id": "6cef728a-0f1a-40b8-b331-aa0deab1c934",
   "metadata": {},
   "outputs": [
    {
     "data": {
      "text/plain": [
       "True"
      ]
     },
     "execution_count": 6,
     "metadata": {},
     "output_type": "execute_result"
    }
   ],
   "source": [
    "os.path.exists(\"../data/songs/Folk/OrangeJuiceSoniaIsabel.mp3\")"
   ]
  },
  {
   "cell_type": "code",
   "execution_count": 7,
   "id": "254b1898-f7ae-4e5e-9d70-92906f9434da",
   "metadata": {},
   "outputs": [
    {
     "name": "stdout",
     "output_type": "stream",
     "text": [
      "🎵 Predicted Genre for ../data/songs/Folk/OrangeJuiceSoniaIsabel.mp3: Folk\n"
     ]
    },
    {
     "data": {
      "text/plain": [
       "np.str_('Folk')"
      ]
     },
     "execution_count": 7,
     "metadata": {},
     "output_type": "execute_result"
    }
   ],
   "source": [
    "classify_song(\"../data/songs/Folk/OrangeJuiceSoniaIsabel.mp3\")"
   ]
  },
  {
   "cell_type": "code",
   "execution_count": 8,
   "id": "64153904-0107-45b5-b86b-5ea78e3b3a88",
   "metadata": {},
   "outputs": [
    {
     "name": "stdout",
     "output_type": "stream",
     "text": [
      "🎵 Predicted Genre for ../data/songs/International/IsraAlienBandSoloAris.mp3: International\n"
     ]
    },
    {
     "data": {
      "text/plain": [
       "np.str_('International')"
      ]
     },
     "execution_count": 8,
     "metadata": {},
     "output_type": "execute_result"
    }
   ],
   "source": [
    "classify_song(\"../data/songs/International/IsraAlienBandSoloAris.mp3\")"
   ]
  },
  {
   "cell_type": "code",
   "execution_count": null,
   "id": "9fcbebdd-8624-486c-85bf-9f1dbcdbca3c",
   "metadata": {},
   "outputs": [],
   "source": []
  }
 ],
 "metadata": {
  "kernelspec": {
   "display_name": "Python 3 (ipykernel)",
   "language": "python",
   "name": "python3"
  },
  "language_info": {
   "codemirror_mode": {
    "name": "ipython",
    "version": 3
   },
   "file_extension": ".py",
   "mimetype": "text/x-python",
   "name": "python",
   "nbconvert_exporter": "python",
   "pygments_lexer": "ipython3",
   "version": "3.9.21"
  }
 },
 "nbformat": 4,
 "nbformat_minor": 5
}
