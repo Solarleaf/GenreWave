{
 "cells": [
  {
   "cell_type": "code",
   "execution_count": 1,
   "id": "ccbf8850-c867-4e70-936b-03e7c8069637",
   "metadata": {},
   "outputs": [],
   "source": [
    "import librosa\n",
    "import numpy as np\n",
    "import torch\n",
    "import torch.nn as nn"
   ]
  },
  {
   "cell_type": "code",
   "execution_count": 2,
   "id": "08b7e9a3-eb9a-4c9a-923a-b32722f49dde",
   "metadata": {},
   "outputs": [],
   "source": [
    "\n",
    "\n",
    "class LSTMClassifier(nn.Module):\n",
    "    def __init__(self, input_size=20, hidden_size=128, num_layers=3, num_classes=8, dropout=0.3):\n",
    "        super(LSTMClassifier, self).__init__()\n",
    "        self.lstm = nn.LSTM(input_size=input_size,\n",
    "                            hidden_size=hidden_size,\n",
    "                            num_layers=num_layers,\n",
    "                            batch_first=True,\n",
    "                            dropout=dropout,\n",
    "                           bidirectional=True)\n",
    "        self.fc = nn.Linear(hidden_size, num_classes)\n",
    "\n",
    "    def forward(self, x):\n",
    "        out, (hn, _) = self.lstm(x)       \n",
    "        logits = self.fc(hn[-1])          \n",
    "        return logits"
   ]
  },
  {
   "cell_type": "code",
   "execution_count": 3,
   "id": "6bc92114-48bc-41a1-8a50-42f053926c7b",
   "metadata": {},
   "outputs": [],
   "source": [
    "model_path = '../models/lstm_genre_classifier_with_class_weights.pth'"
   ]
  },
  {
   "cell_type": "code",
   "execution_count": 4,
   "id": "ab36ea66-0a3a-4649-b6b9-a992b3edf905",
   "metadata": {},
   "outputs": [
    {
     "data": {
      "text/plain": [
       "LSTMClassifier(\n",
       "  (lstm): LSTM(20, 128, num_layers=3, batch_first=True, dropout=0.3, bidirectional=True)\n",
       "  (fc): Linear(in_features=128, out_features=8, bias=True)\n",
       ")"
      ]
     },
     "execution_count": 4,
     "metadata": {},
     "output_type": "execute_result"
    }
   ],
   "source": [
    "model = LSTMClassifier(input_size=20, hidden_size=128, num_layers=3, num_classes=8, dropout=0.3)\n",
    "model.load_state_dict(torch.load(model_path, map_location='cpu'))\n",
    "model.eval()"
   ]
  },
  {
   "cell_type": "code",
   "execution_count": 5,
   "id": "9fc62d4a-c423-4cc0-a8a8-30129c8e8c68",
   "metadata": {},
   "outputs": [],
   "source": [
    "genre_id_to_name = {\n",
    "    0: 'Electronic',\n",
    "    1: 'Experimental',\n",
    "    2: 'Folk',\n",
    "    3: 'Hip-Hop',\n",
    "    4: 'Instrumental',\n",
    "    5: 'International',\n",
    "    6: 'Pop',\n",
    "    7: 'Rock'\n",
    "}\n"
   ]
  },
  {
   "cell_type": "code",
   "execution_count": 6,
   "id": "35264d7e-8e91-4115-9074-2a4c1746b5a5",
   "metadata": {},
   "outputs": [],
   "source": [
    "def extract_mfcc_from_file(file_path, sample_rate=22050, n_mfcc=20, max_len=130):\n",
    "    try:\n",
    "        signal, sr = librosa.load(file_path, sr=sample_rate)\n",
    "        mfcc = librosa.feature.mfcc(y=signal, sr=sr, n_mfcc=n_mfcc)\n",
    "\n",
    "        if mfcc.shape[1] < max_len:\n",
    "            pad_width = max_len - mfcc.shape[1]\n",
    "            mfcc = np.pad(mfcc, pad_width=((0, 0), (0, pad_width)), mode='constant')\n",
    "        else:\n",
    "            mfcc = mfcc[:, :max_len]\n",
    "\n",
    "        return mfcc.T  # shape: (130, 20)\n",
    "    except Exception as e:\n",
    "        print(f\"Failed to process {file_path}: {e}\")\n",
    "        return None"
   ]
  },
  {
   "cell_type": "code",
   "execution_count": 7,
   "id": "b3a79c19-b215-4d06-9932-493c1507f6f8",
   "metadata": {},
   "outputs": [],
   "source": [
    "def predict_genre(file_path):\n",
    "    mfcc = extract_mfcc_from_file(file_path)\n",
    "    if mfcc is None:\n",
    "        return\n",
    "\n",
    "    x = torch.tensor(mfcc, dtype=torch.float32).unsqueeze(0)  # Add batch dim: (1, 130, 20)\n",
    "    with torch.no_grad():\n",
    "        output = model(x)\n",
    "        predicted_class = torch.argmax(output, dim=1).item()\n",
    "        print(f\"Predicted genre: {genre_id_to_name[predicted_class]}\")"
   ]
  },
  {
   "cell_type": "code",
   "execution_count": null,
   "id": "2d5d0415-d9aa-4571-bacd-4151c5a90e4d",
   "metadata": {},
   "outputs": [
    {
     "name": "stdout",
     "output_type": "stream",
     "text": [
      "Failed to process ../data/songs/Folk/Athens_-_Pierce_Murphy.mp3: [Errno 2] No such file or directory: '../data/songs/Folk/Athens_-_Pierce_Murphy.mp3'\n"
     ]
    },
    {
     "name": "stderr",
     "output_type": "stream",
     "text": [
      "C:\\Users\\ranuL\\AppData\\Local\\Temp\\ipykernel_12556\\4119836396.py:3: UserWarning: PySoundFile failed. Trying audioread instead.\n",
      "  signal, sr = librosa.load(file_path, sr=sample_rate)\n",
      "c:\\Users\\ranuL\\Documents\\GitHub\\GenreWave\\venv\\Lib\\site-packages\\librosa\\core\\audio.py:184: FutureWarning: librosa.core.audio.__audioread_load\n",
      "\tDeprecated as of librosa version 0.10.0.\n",
      "\tIt will be removed in librosa version 1.0.\n",
      "  y, sr_native = __audioread_load(path, offset, duration, dtype)\n"
     ]
    }
   ],
   "source": [
    "predict_genre('../data/songs/Folk/AthensPierceMurphy.mp3')"
   ]
  },
  {
   "cell_type": "code",
   "execution_count": null,
   "id": "7eaae254-7fe3-4d0b-9422-ae3f07a6e833",
   "metadata": {},
   "outputs": [
    {
     "name": "stdout",
     "output_type": "stream",
     "text": [
      "Failed to process ../data/songs/Folk/Acoustic_Astronaut_-_Destruction_Mill_©2023_by_Acoustic_Astronaut™.mp3: [Errno 2] No such file or directory: '../data/songs/Folk/Acoustic_Astronaut_-_Destruction_Mill_©2023_by_Acoustic_Astronaut™.mp3'\n"
     ]
    },
    {
     "name": "stderr",
     "output_type": "stream",
     "text": [
      "C:\\Users\\ranuL\\AppData\\Local\\Temp\\ipykernel_12556\\4119836396.py:3: UserWarning: PySoundFile failed. Trying audioread instead.\n",
      "  signal, sr = librosa.load(file_path, sr=sample_rate)\n"
     ]
    }
   ],
   "source": [
    "predict_genre(\n",
    "    '../data/songs/Folk/AcousticAstronautDestructionMillbyAcousticAstronaut.mp3')"
   ]
  },
  {
   "cell_type": "code",
   "execution_count": null,
   "id": "eb08b763-2069-4f46-98b7-3df7295032c5",
   "metadata": {},
   "outputs": [
    {
     "name": "stdout",
     "output_type": "stream",
     "text": [
      "Failed to process ../data/songs/Folk/Walk_Tonight_-_Charlie_Mosbrook_(2).mp3: [Errno 2] No such file or directory: '../data/songs/Folk/Walk_Tonight_-_Charlie_Mosbrook_(2).mp3'\n"
     ]
    },
    {
     "name": "stderr",
     "output_type": "stream",
     "text": [
      "C:\\Users\\ranuL\\AppData\\Local\\Temp\\ipykernel_12556\\4119836396.py:3: UserWarning: PySoundFile failed. Trying audioread instead.\n",
      "  signal, sr = librosa.load(file_path, sr=sample_rate)\n"
     ]
    }
   ],
   "source": [
    "predict_genre('../data/songs/Folk/WalkTonightCharlieMosbrook.mp3')"
   ]
  },
  {
   "cell_type": "code",
   "execution_count": null,
   "id": "702257a8-3576-4a7c-801a-b65bc462df61",
   "metadata": {},
   "outputs": [
    {
     "name": "stdout",
     "output_type": "stream",
     "text": [
      "Failed to process ../data/songs/Rock/059. John Lennon - Imagine (2010 Mix).mp3: [Errno 2] No such file or directory: '../data/songs/Rock/059. John Lennon - Imagine (2010 Mix).mp3'\n"
     ]
    },
    {
     "name": "stderr",
     "output_type": "stream",
     "text": [
      "C:\\Users\\ranuL\\AppData\\Local\\Temp\\ipykernel_12556\\4119836396.py:3: UserWarning: PySoundFile failed. Trying audioread instead.\n",
      "  signal, sr = librosa.load(file_path, sr=sample_rate)\n"
     ]
    }
   ],
   "source": [
    "predict_genre('../data/songs/Rock/JohnLennonImagineMix.mp3')"
   ]
  },
  {
   "cell_type": "code",
   "execution_count": null,
   "id": "49d2a6ff-f0a3-4ad3-93ce-3e653026d3cb",
   "metadata": {
    "scrolled": true
   },
   "outputs": [
    {
     "name": "stdout",
     "output_type": "stream",
     "text": [
      "Failed to process ../data/songs/Rock/060. Don McLean - American Pie.mp3: [Errno 2] No such file or directory: '../data/songs/Rock/060. Don McLean - American Pie.mp3'\n"
     ]
    },
    {
     "name": "stderr",
     "output_type": "stream",
     "text": [
      "C:\\Users\\ranuL\\AppData\\Local\\Temp\\ipykernel_12556\\4119836396.py:3: UserWarning: PySoundFile failed. Trying audioread instead.\n",
      "  signal, sr = librosa.load(file_path, sr=sample_rate)\n"
     ]
    }
   ],
   "source": [
    "predict_genre('../data/songs/Rock/DonMcLeanAmericanPie.mp3')"
   ]
  },
  {
   "cell_type": "code",
   "execution_count": null,
   "id": "e9acb17a-14a5-41ba-a041-65e4bc82c5c8",
   "metadata": {},
   "outputs": [
    {
     "name": "stdout",
     "output_type": "stream",
     "text": [
      "Failed to process ../data/songs/Rock/099. The Zombies - She's Not There.mp3: [Errno 2] No such file or directory: \"../data/songs/Rock/099. The Zombies - She's Not There.mp3\"\n"
     ]
    },
    {
     "name": "stderr",
     "output_type": "stream",
     "text": [
      "C:\\Users\\ranuL\\AppData\\Local\\Temp\\ipykernel_12556\\4119836396.py:3: UserWarning: PySoundFile failed. Trying audioread instead.\n",
      "  signal, sr = librosa.load(file_path, sr=sample_rate)\n"
     ]
    }
   ],
   "source": [
    "predict_genre(\"../data/songs/Rock/TheZombiesShesNotThere.mp3\")"
   ]
  },
  {
   "cell_type": "code",
   "execution_count": null,
   "id": "f4bea1b2-54b5-480e-9678-dd5989f49efe",
   "metadata": {},
   "outputs": [
    {
     "name": "stdout",
     "output_type": "stream",
     "text": [
      "Failed to process ../data/songs/Rock/006. David Bowie - Changes (2015 Remaster).mp3: [Errno 2] No such file or directory: '../data/songs/Rock/006. David Bowie - Changes (2015 Remaster).mp3'\n"
     ]
    },
    {
     "name": "stderr",
     "output_type": "stream",
     "text": [
      "C:\\Users\\ranuL\\AppData\\Local\\Temp\\ipykernel_12556\\4119836396.py:3: UserWarning: PySoundFile failed. Trying audioread instead.\n",
      "  signal, sr = librosa.load(file_path, sr=sample_rate)\n"
     ]
    }
   ],
   "source": [
    "predict_genre(\"../data/songs/Rock/DavidBowieChangesRemaster.mp3\")"
   ]
  },
  {
   "cell_type": "code",
   "execution_count": null,
   "id": "e9188d24-c0c1-43dd-9593-29ee6c7cb1a2",
   "metadata": {},
   "outputs": [],
   "source": []
  }
 ],
 "metadata": {
  "kernelspec": {
   "display_name": "venv",
   "language": "python",
   "name": "python3"
  },
  "language_info": {
   "codemirror_mode": {
    "name": "ipython",
    "version": 3
   },
   "file_extension": ".py",
   "mimetype": "text/x-python",
   "name": "python",
   "nbconvert_exporter": "python",
   "pygments_lexer": "ipython3",
   "version": "3.12.2"
  }
 },
 "nbformat": 4,
 "nbformat_minor": 5
}
