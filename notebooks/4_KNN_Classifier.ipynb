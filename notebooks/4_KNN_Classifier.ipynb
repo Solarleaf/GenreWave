{
 "cells": [
  {
   "cell_type": "code",
   "execution_count": null,
   "id": "f951c7e9",
   "metadata": {},
   "outputs": [
    {
     "ename": "ModuleNotFoundError",
     "evalue": "No module named 'pandas'",
     "output_type": "error",
     "traceback": [
      "\u001b[0;31m---------------------------------------------------------------------------\u001b[0m",
      "\u001b[0;31mModuleNotFoundError\u001b[0m                       Traceback (most recent call last)",
      "Cell \u001b[0;32mIn[1], line 1\u001b[0m\n\u001b[0;32m----> 1\u001b[0m \u001b[38;5;28;01mimport\u001b[39;00m\u001b[38;5;250m \u001b[39m\u001b[38;5;21;01mpandas\u001b[39;00m\u001b[38;5;250m \u001b[39m\u001b[38;5;28;01mas\u001b[39;00m\u001b[38;5;250m \u001b[39m\u001b[38;5;21;01mpd\u001b[39;00m\n\u001b[1;32m      2\u001b[0m \u001b[38;5;28;01mimport\u001b[39;00m\u001b[38;5;250m \u001b[39m\u001b[38;5;21;01mnumpy\u001b[39;00m\u001b[38;5;250m \u001b[39m\u001b[38;5;28;01mas\u001b[39;00m\u001b[38;5;250m \u001b[39m\u001b[38;5;21;01mnp\u001b[39;00m \n\u001b[1;32m      3\u001b[0m \u001b[38;5;28;01mimport\u001b[39;00m\u001b[38;5;250m \u001b[39m\u001b[38;5;21;01mmatplotlib\u001b[39;00m\u001b[38;5;21;01m.\u001b[39;00m\u001b[38;5;21;01mpyplot\u001b[39;00m\u001b[38;5;250m \u001b[39m\u001b[38;5;28;01mas\u001b[39;00m\u001b[38;5;250m \u001b[39m\u001b[38;5;21;01mplt\u001b[39;00m\n",
      "\u001b[0;31mModuleNotFoundError\u001b[0m: No module named 'pandas'"
     ]
    }
   ],
   "source": [
    "import pandas as pd\n",
    "import numpy as np \n",
    "import matplotlib.pyplot as plt\n",
    "import scipy\n",
    "import os\n",
    "import pickle\n",
    "import librosa\n",
    "import librosa.display\n",
    "import IPython.display as ipd\n",
    "from IPython.display import Audio\n",
    "from sklearn.model_selection import train_test_split\n",
    "from sklearn.preprocessing import LabelEncoder\n",
    "import tensorflow as tf\n",
    "from tensorflow import keras\n",
    "from tensorflow.keras.models import Sequential\n",
    "\n",
    "# Paths\n",
    "METADATA_PATH = \"../reports/1_Explore_Metadata/valid_track_genres.csv\"\n",
    "AUDIO_DIR = \"../data/fma_small/\"\n",
    "FEATURE_SAVE_PATH = \"../features/knn_features.npz\"\n",
    "MODEL_SAVE_PATH = \"../models/knn_model.pkl\"\n",
    "TEST_OUTPUTS_PATH = \"../features/knn_test_outputs.npz\"\n",
    "REPORT_DIR = \"../reports/4_KNN_Classifier/\"\n",
    "os.makedirs(REPORT_DIR, exist_ok=True)\n",
    "\n",
    "def load_metadata(path):\n",
    "    df = pd.read_csv(path)\n",
    "    df = df.dropna(subset=['genre_top'])\n",
    "    return df\n"
   ]
  },
  {
   "cell_type": "code",
   "execution_count": null,
   "id": "520d789a",
   "metadata": {},
   "outputs": [],
   "source": [
    "audio =\"../data/songs/Classic_Rock/001. Eagles - Hotel California (2013 Remaster).mp3\"\n",
    "data,sr=librosa.load(audio)\n",
    "print(type(data),type(sr))\n",
    "\n",
    "librosa.load(audio,sr=45600)\n",
    "\n",
    "y = librosa.stft(data)  \n",
    "S_db = librosa.amplitude_to_db(np.abs(y), ref=np.max)\n",
    "\n",
    "import IPython\n",
    "IPython.display.Audio(data,rate=sr)"
   ]
  },
  {
   "cell_type": "code",
   "execution_count": null,
   "id": "0347d019",
   "metadata": {},
   "outputs": [],
   "source": [
    "plt.figure(figsize=(7,4))\n",
    "librosa.display.waveshow(data,color=\"#2B4F72\", alpha = 0.5)\n",
    "plt.show()"
   ]
  },
  {
   "cell_type": "code",
   "execution_count": null,
   "id": "7bd51a45",
   "metadata": {},
   "outputs": [],
   "source": [
    "# Spectrogram of the audio\n",
    "stft=librosa.stft(data)\n",
    "stft_db=librosa.amplitude_to_db(abs(stft))\n",
    "plt.figure(figsize=(7,6))\n",
    "librosa.display.specshow(stft_db,sr=sr,x_axis='time',y_axis='hz')\n",
    "plt.colorbar()"
   ]
  },
  {
   "cell_type": "code",
   "execution_count": null,
   "id": "8c8fa594",
   "metadata": {},
   "outputs": [],
   "source": [
    "data, sr = librosa.load(audio)\n",
    "plt.figure(figsize=(7, 3))\n",
    "librosa.display.waveshow(data, sr=sr,alpha=0.4)\n",
    "plt.title('Waveplot - ROCK')\n",
    "\n",
    "# Creating log mel spectrogram\n",
    "plt.figure(figsize=(7, 4))\n",
    "spectrogram = librosa.feature.melspectrogram(y=data, sr=sr, n_mels=128,fmax=8000) \n",
    "spectrogram = librosa.power_to_db(spectrogram)\n",
    "librosa.display.specshow(spectrogram, y_axis='mel', fmax=8000, x_axis='time');\n",
    "plt.title('Mel Spectrogram - ROCK')\n",
    "plt.colorbar(format='%+2.0f dB');\n",
    "\n",
    "# Playing audio\n",
    "ipd.Audio(audio)\n",
    "print(\"Columns containing missing values\",list(df.columns[df.isnull().any()]))\n",
    "print(df.iloc[:,:-1])"
   ]
  },
  {
   "cell_type": "code",
   "execution_count": null,
   "id": "ec1080de",
   "metadata": {},
   "outputs": [],
   "source": [
    "df=df.drop(labels=\"filename\",axis=1)\n",
    "\n",
    "from sklearn.preprocessing import StandardScaler\n",
    "fit=StandardScaler()\n",
    "X=fit.fit_transform(np.array(df.iloc[:,:-1],dtype=float))\n",
    "\n",
    "X_train,X_test,y_train,y_test=train_test_split(X,y,test_size=0.3)\n"
   ]
  },
  {
   "cell_type": "code",
   "execution_count": null,
   "id": "bee4b8d7",
   "metadata": {},
   "outputs": [],
   "source": [
    "# Applying K nearest Neighbour algorithm to predict the results\n",
    "from sklearn.neighbors import KNeighborsClassifier\n",
    "from sklearn.metrics import classification_report, confusion_matrix\n",
    "import matplotlib.pyplot as plt\n",
    "import seaborn as sns\n",
    "\n",
    "clf1=KNeighborsClassifier(n_neighbors=3)\n",
    "clf1.fit(X_train,y_train)\n",
    "y_pred=clf1.predict(X_test)\n",
    "print(\"Training set score: {:.3f}\".format(clf1.score(X_train, y_train)))\n",
    "print(\"Test set score: {:.3f}\".format(clf1.score(X_test, y_test)))\n",
    "cf_matrix = confusion_matrix(y_test, y_pred)\n",
    "sns.set(rc = {'figure.figsize':(8,3)})\n",
    "sns.heatmap(cf_matrix, annot=True)\n",
    "print(classification_report(y_test,y_pred))"
   ]
  }
 ],
 "metadata": {
  "kernelspec": {
   "display_name": "venv",
   "language": "python",
   "name": "python3"
  },
  "language_info": {
   "codemirror_mode": {
    "name": "ipython",
    "version": 3
   },
   "file_extension": ".py",
   "mimetype": "text/x-python",
   "name": "python",
   "nbconvert_exporter": "python",
   "pygments_lexer": "ipython3",
   "version": "3.12.2"
  }
 },
 "nbformat": 4,
 "nbformat_minor": 5
}
