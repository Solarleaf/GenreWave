{
 "cells": [
  {
   "cell_type": "code",
   "execution_count": null,
   "id": "99d9424f",
   "metadata": {},
   "outputs": [],
   "source": [
    "# L 4-23-25\n",
    "# notebooks/3.1_Generate_Spectrograms.ipynb"
   ]
  },
  {
   "cell_type": "code",
   "execution_count": null,
   "id": "acf9b026",
   "metadata": {},
   "outputs": [
    {
     "name": "stdout",
     "output_type": "stream",
     "text": [
      "[INFO] Verifying spectrograms for 7994 tracks\n"
     ]
    }
   ],
   "source": [
    "# L 4-23-25\n",
    "# notebooks/3.1_Generate_Spectrograms.ipynb\n",
    "\n",
    "import os\n",
    "import gc\n",
    "import librosa\n",
    "import librosa.display\n",
    "import matplotlib.pyplot as plt\n",
    "import numpy as np\n",
    "import pandas as pd\n",
    "from PIL import Image\n",
    "import matplotlib\n",
    "\n",
    "matplotlib.use(\"Agg\")  # headless image rendering\n",
    "\n",
    "# Default constants\n",
    "IMG_SIZE = 128\n",
    "BASE_DIR = os.getcwd()\n",
    "DEFAULT_CSV_PATH = os.path.join(\n",
    "    BASE_DIR, \"../reports/2_MFCC_RF_Classifier/used_tracks.csv\")\n",
    "DEFAULT_AUDIO_DIR = os.path.join(BASE_DIR, \"../data/fma_small\")\n",
    "DEFAULT_OUTPUT_DIR = os.path.join(BASE_DIR, \"../spectrograms\")\n",
    "\n",
    "\n",
    "def generate_spectrogram(input_path, output_path, img_size=IMG_SIZE):\n",
    "    \"\"\"Generate and save mel-spectrogram for a given audio file.\"\"\"\n",
    "    try:\n",
    "        y, sr = librosa.load(input_path, sr=None, duration=30)\n",
    "        S = librosa.feature.melspectrogram(y=y, sr=sr, n_mels=128)\n",
    "        S_dB = librosa.power_to_db(S, ref=np.max)\n",
    "\n",
    "        fig, ax = plt.subplots(figsize=(1.28, 1.28), dpi=100)\n",
    "        librosa.display.specshow(S_dB, sr=sr, cmap='viridis', ax=ax)\n",
    "        ax.axis(\"off\")\n",
    "        plt.tight_layout(pad=0)\n",
    "        fig.savefig(output_path, bbox_inches=\"tight\", pad_inches=0)\n",
    "        plt.close(fig)\n",
    "\n",
    "        # Resize to square RGB\n",
    "        with Image.open(output_path) as img:\n",
    "            img = img.convert(\"RGB\")\n",
    "            img = img.resize((img_size, img_size))\n",
    "            img.save(output_path)\n",
    "\n",
    "        return True\n",
    "    except Exception as e:\n",
    "        print(f\"[ERROR] Spectrogram failed for {input_path}: {e}\")\n",
    "        gc.collect()\n",
    "        return False\n",
    "\n",
    "\n",
    "def generate_spectrograms_from_csv(csv_path, audio_dir, output_dir, img_size=IMG_SIZE):\n",
    "    \"\"\"Generate spectrograms from track CSV metadata and audio folder.\"\"\"\n",
    "    if not os.path.isfile(csv_path):\n",
    "        print(f\"[ERROR] CSV not found: {csv_path}\")\n",
    "        return\n",
    "\n",
    "    df = pd.read_csv(csv_path)\n",
    "    print(f\"[INFO] Verifying spectrograms for {len(df)} tracks\")\n",
    "\n",
    "    for _, row in df.iterrows():\n",
    "        track_id = str(row[\"track_id\"]).zfill(6)\n",
    "        genre = row[\"genre\"]\n",
    "        subdir = track_id[:3]\n",
    "        audio_path = os.path.join(audio_dir, subdir, f\"{track_id}.mp3\")\n",
    "        output_genre_path = os.path.join(output_dir, genre)\n",
    "        os.makedirs(output_genre_path, exist_ok=True)\n",
    "        output_path = os.path.join(output_genre_path, f\"{track_id}.png\")\n",
    "\n",
    "        if not os.path.isfile(output_path):\n",
    "            generate_spectrogram(audio_path, output_path, img_size)\n",
    "\n",
    "\n",
    "if __name__ == \"__main__\":\n",
    "    if os.path.isfile(DEFAULT_CSV_PATH):\n",
    "        generate_spectrograms_from_csv(\n",
    "            DEFAULT_CSV_PATH, DEFAULT_AUDIO_DIR, DEFAULT_OUTPUT_DIR, IMG_SIZE)\n",
    "    else:\n",
    "        print(\n",
    "            f\"[WARNING] Default CSV not found: {DEFAULT_CSV_PATH}. No spectrograms generated.\")"
   ]
  }
 ],
 "metadata": {
  "kernelspec": {
   "display_name": "venv",
   "language": "python",
   "name": "python3"
  },
  "language_info": {
   "codemirror_mode": {
    "name": "ipython",
    "version": 3
   },
   "file_extension": ".py",
   "mimetype": "text/x-python",
   "name": "python",
   "nbconvert_exporter": "python",
   "pygments_lexer": "ipython3",
   "version": "3.12.2"
  }
 },
 "nbformat": 4,
 "nbformat_minor": 5
}
