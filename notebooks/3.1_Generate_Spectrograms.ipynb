{
 "cells": [
  {
   "cell_type": "code",
   "execution_count": null,
   "id": "99d9424f",
   "metadata": {},
   "outputs": [],
   "source": [
    "# L 4-23-25\n",
    "# notebooks/3.1_Generate_Spectrograms.ipynb"
   ]
  },
  {
   "cell_type": "code",
   "execution_count": null,
   "id": "acf9b026",
   "metadata": {},
   "outputs": [
    {
     "name": "stdout",
     "output_type": "stream",
     "text": [
      "Loaded 7994 usable tracks from CSV\n"
     ]
    }
   ],
   "source": [
    "# notebooks/3.1_Generate_Spectrograms.ipynb\n",
    "\n",
    "import os\n",
    "import pandas as pd\n",
    "import librosa\n",
    "import librosa.display\n",
    "import matplotlib.pyplot as plt\n",
    "from PIL import Image\n",
    "import numpy as np\n",
    "\n",
    "# Parameters\n",
    "USED_TRACKS_CSV = \"../reports/2_MFCC_RF_Classifier/used_tracks.csv\"\n",
    "AUDIO_DIR = \"../data/fma_small\"\n",
    "OUTPUT_DIR = \"../spectrograms\"\n",
    "IMG_SIZE = 128\n",
    "\n",
    "# Create output root directory\n",
    "os.makedirs(OUTPUT_DIR, exist_ok=True)\n",
    "\n",
    "# Load used tracks metadata\n",
    "used_df = pd.read_csv(USED_TRACKS_CSV)\n",
    "print(f\"Loaded {len(used_df)} usable tracks from CSV\")\n",
    "\n",
    "# Loop over tracks\n",
    "for i, row in used_df.iterrows():\n",
    "    track_id = str(row['track_id']).zfill(6)\n",
    "    genre = row['genre']\n",
    "    subfolder = track_id[:3]\n",
    "    audio_path = os.path.join(AUDIO_DIR, subfolder, f\"{track_id}.mp3\")\n",
    "    output_path = os.path.join(OUTPUT_DIR, genre)\n",
    "    os.makedirs(output_path, exist_ok=True)\n",
    "    save_path = os.path.join(output_path, f\"{track_id}.png\")\n",
    "\n",
    "    try:\n",
    "        y, sr = librosa.load(audio_path, sr=None, duration=30)\n",
    "        S = librosa.feature.melspectrogram(y=y, sr=sr, n_mels=128)\n",
    "        S_dB = librosa.power_to_db(S, ref=np.max)\n",
    "\n",
    "        # Save as RGB image\n",
    "        plt.figure(figsize=(1.28, 1.28), dpi=100)  # 128x128 pixels\n",
    "        librosa.display.specshow(S_dB, sr=sr, cmap='viridis')\n",
    "        plt.axis('off')\n",
    "        plt.tight_layout(pad=0)\n",
    "        plt.savefig(save_path, bbox_inches='tight', pad_inches=0)\n",
    "        plt.close()\n",
    "\n",
    "        # Ensure RGB and correct size\n",
    "        img = Image.open(save_path).convert('RGB')\n",
    "        img = img.resize((IMG_SIZE, IMG_SIZE))\n",
    "        img.save(save_path)\n",
    "\n",
    "        #print(f\"Saved: {save_path}\")\n",
    "\n",
    "    except Exception as e:\n",
    "        print(f\"Failed to process {track_id}: {e}\")"
   ]
  }
 ],
 "metadata": {
  "kernelspec": {
   "display_name": "venv",
   "language": "python",
   "name": "python3"
  },
  "language_info": {
   "codemirror_mode": {
    "name": "ipython",
    "version": 3
   },
   "file_extension": ".py",
   "mimetype": "text/x-python",
   "name": "python",
   "nbconvert_exporter": "python",
   "pygments_lexer": "ipython3",
   "version": "3.12.2"
  }
 },
 "nbformat": 4,
 "nbformat_minor": 5
}
