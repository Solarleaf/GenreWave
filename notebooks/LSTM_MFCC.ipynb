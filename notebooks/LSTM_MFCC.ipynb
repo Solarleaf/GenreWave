{
 "cells": [
  {
   "cell_type": "markdown",
   "id": "4d37e76e-4af5-4432-9860-c4a2afa520cf",
   "metadata": {},
   "source": [
    "## EXPLORING mfcc_features"
   ]
  },
  {
   "cell_type": "code",
   "execution_count": 6,
   "id": "93ae6f01-ccb6-4a95-87b6-974cc4e72df8",
   "metadata": {},
   "outputs": [],
   "source": [
    "import numpy as np\n",
    "import torch\n",
    "from sklearn.model_selection import train_test_split"
   ]
  },
  {
   "cell_type": "code",
   "execution_count": 7,
   "id": "5f43dde1-21f0-4647-9dd1-0fb02300caa8",
   "metadata": {},
   "outputs": [
    {
     "name": "stdout",
     "output_type": "stream",
     "text": [
      "['X', 'y']\n"
     ]
    }
   ],
   "source": [
    "data = np.load(\"../features/mfcc_features.npz\")\n",
    "print(data.files) "
   ]
  },
  {
   "cell_type": "code",
   "execution_count": 11,
   "id": "8873a3af-22e0-4710-b03d-7c00fe6cd0c6",
   "metadata": {},
   "outputs": [
    {
     "name": "stdout",
     "output_type": "stream",
     "text": [
      "Original shape: (7994, 40)\n",
      "Original shape: (7994,)\n"
     ]
    }
   ],
   "source": [
    "X = data['X']  \n",
    "y = data['y']  \n",
    "print(\"Original shape:\", X.shape)\n",
    "print(\"Original shape:\", y.shape)"
   ]
  },
  {
   "cell_type": "code",
   "execution_count": null,
   "id": "0c1dd3c9-6378-46cf-a13c-747a5cc735ab",
   "metadata": {},
   "outputs": [],
   "source": [
    "### have total of 7994 samples and 40 features "
   ]
  },
  {
   "cell_type": "code",
   "execution_count": null,
   "id": "63c8669c-1787-4861-b24a-6d48b5fcc0cd",
   "metadata": {},
   "outputs": [],
   "source": []
  }
 ],
 "metadata": {
  "kernelspec": {
   "display_name": "Python 3 (ipykernel)",
   "language": "python",
   "name": "python3"
  },
  "language_info": {
   "codemirror_mode": {
    "name": "ipython",
    "version": 3
   },
   "file_extension": ".py",
   "mimetype": "text/x-python",
   "name": "python",
   "nbconvert_exporter": "python",
   "pygments_lexer": "ipython3",
   "version": "3.9.19"
  }
 },
 "nbformat": 4,
 "nbformat_minor": 5
}
