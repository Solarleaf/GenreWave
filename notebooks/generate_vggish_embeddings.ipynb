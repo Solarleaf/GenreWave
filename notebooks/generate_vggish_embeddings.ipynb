{
 "cells": [
  {
   "cell_type": "code",
   "execution_count": null,
   "id": "ec5bd8ae",
   "metadata": {},
   "outputs": [],
   "source": [
    "# Generate embeddings for audio files using pre-trained VGGish model"
   ]
  },
  {
   "cell_type": "code",
   "execution_count": null,
   "id": "c7fe689b",
   "metadata": {},
   "outputs": [],
   "source": [
    "import os\n",
    "import torchaudio\n",
    "import numpy as np\n",
    "from tqdm import tqdm\n",
    "from torchvggish import vggish, vggish_input\n",
    "import torch\n",
    "\n",
    "mp3_root = \"../data/fma_small\"\n",
    "output_dir = \"../data/vggish_embeddings_v2\"\n",
    "os.makedirs(output_dir, exist_ok=True)\n",
    "\n",
    "model = vggish()\n",
    "model.eval()\n",
    "\n",
    "success_count = 0\n",
    "error_count = 0\n",
    "\n",
    "for folder in sorted(os.listdir(mp3_root)):\n",
    "    folder_path = os.path.join(mp3_root, folder)\n",
    "    if not os.path.isdir(folder_path):\n",
    "        continue\n",
    "\n",
    "    for file in tqdm(os.listdir(folder_path), desc=f\"Processing {folder}\"):\n",
    "        if not file.endswith(\".mp3\"):\n",
    "            continue\n",
    "\n",
    "        track_id = file.split(\".\")[0]\n",
    "        mp3_path = os.path.join(folder_path, file)\n",
    "        out_path = os.path.join(output_dir, f\"{track_id}.npy\")\n",
    "\n",
    "        if os.path.exists(out_path):\n",
    "            continue\n",
    "\n",
    "        try:\n",
    "            waveform, sr = torchaudio.load(mp3_path)\n",
    "            if sr != 16000:\n",
    "                resampler = torchaudio.transforms.Resample(orig_freq=sr, new_freq=16000)\n",
    "                waveform = resampler(waveform)\n",
    "\n",
    "            mel = vggish_input.waveform_to_examples(waveform.numpy()[0], 16000)\n",
    "\n",
    "            with torch.no_grad():\n",
    "                features = model(torch.tensor(mel).float())\n",
    "                song_embedding = features.mean(dim=0).numpy()\n",
    "\n",
    "            np.save(out_path, song_embedding)\n",
    "            success_count += 1\n",
    "\n",
    "        except Exception as e:\n",
    "            print(f\"[ERROR] {track_id}: {e}\")\n",
    "            error_count += 1\n",
    "\n",
    "print(f\"\\n Successfully processed: {success_count}\")\n",
    "print(f\"Failed to process: {error_count}\")\n"
   ]
  }
 ],
 "metadata": {
  "language_info": {
   "name": "python"
  }
 },
 "nbformat": 4,
 "nbformat_minor": 5
}
